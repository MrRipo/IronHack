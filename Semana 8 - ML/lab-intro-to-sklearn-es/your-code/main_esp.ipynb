{
  "cells": [
    {
      "cell_type": "markdown",
      "metadata": {
        "id": "qoRJHEHuQNlI"
      },
      "source": [
        "# Antes de empezar:\n",
        "Lee el archivo README.md <p>\n",
        "Comenta todo lo que puedas y utiliza los recursos del archivo README.md\n",
        "¡Feliz aprendizaje!"
      ]
    },
    {
      "cell_type": "code",
      "execution_count": 1,
      "metadata": {
        "id": "IxGgF1X4QNlO"
      },
      "outputs": [],
      "source": [
        "# Import your libraries:\n",
        "import pandas as pd\n",
        "from sklearn.datasets import load_diabetes"
      ]
    },
    {
      "cell_type": "markdown",
      "metadata": {
        "id": "wlvuZ0e3QNlS"
      },
      "source": [
        "# Reto 1 - Explorar los conjuntos de datos de Scikit-Learn\n",
        "\n",
        "Antes de empezar a trabajar con nuestros propios conjuntos de datos, exploremos primero los conjuntos de datos incluidos en esta biblioteca de Python. Estos conjuntos de datos se han limpiado y formateado para su uso en algoritmos de ML."
      ]
    },
    {
      "cell_type": "markdown",
      "metadata": {
        "id": "FGp9C1E2QNlT"
      },
      "source": [
        "En primer lugar, cargaremos el conjunto de datos de la diabetes. Hazlo en la celda de abajo importando los conjuntos de datos y luego cargando el conjunto de datos en la `diabetes` utilizando la función `load_diabetes()`."
      ]
    },
    {
      "cell_type": "code",
      "execution_count": 3,
      "metadata": {
        "id": "cZSBqCXHQNlT"
      },
      "outputs": [],
      "source": [
        "diabetes = load_diabetes()"
      ]
    },
    {
      "cell_type": "markdown",
      "metadata": {
        "id": "edmgPfL6QNlU"
      },
      "source": [
        "Vamos a explorar esta variable observando los diferentes atributos. Para ello, mira las `keys()` de esta variable."
      ]
    },
    {
      "cell_type": "code",
      "execution_count": 4,
      "metadata": {
        "colab": {
          "base_uri": "https://localhost:8080/"
        },
        "id": "7U_hkLMyQNlU",
        "outputId": "0594b0a2-1172-45f3-a625-861365247e1e"
      },
      "outputs": [
        {
          "output_type": "execute_result",
          "data": {
            "text/plain": [
              "dict_keys(['data', 'target', 'frame', 'DESCR', 'feature_names', 'data_filename', 'target_filename', 'data_module'])"
            ]
          },
          "metadata": {},
          "execution_count": 4
        }
      ],
      "source": [
        "diabetes.keys()"
      ]
    },
    {
      "cell_type": "markdown",
      "metadata": {
        "id": "x3tvPWXvQNlU"
      },
      "source": [
        "El siguiente paso es leer la descripción del conjunto de datos. Imprima la descripción en la celda siguiente utilizando el atributo `DESCR` de la variable `diabetes`"
      ]
    },
    {
      "cell_type": "code",
      "execution_count": 7,
      "metadata": {
        "scrolled": false,
        "colab": {
          "base_uri": "https://localhost:8080/"
        },
        "id": "OW0GBUStQNlV",
        "outputId": "ce2e83a6-0cff-4b69-b2ae-a2375d31fd43"
      },
      "outputs": [
        {
          "output_type": "stream",
          "name": "stdout",
          "text": [
            ".. _diabetes_dataset:\n",
            "\n",
            "Diabetes dataset\n",
            "----------------\n",
            "\n",
            "Ten baseline variables, age, sex, body mass index, average blood\n",
            "pressure, and six blood serum measurements were obtained for each of n =\n",
            "442 diabetes patients, as well as the response of interest, a\n",
            "quantitative measure of disease progression one year after baseline.\n",
            "\n",
            "**Data Set Characteristics:**\n",
            "\n",
            ":Number of Instances: 442\n",
            "\n",
            ":Number of Attributes: First 10 columns are numeric predictive values\n",
            "\n",
            ":Target: Column 11 is a quantitative measure of disease progression one year after baseline\n",
            "\n",
            ":Attribute Information:\n",
            "    - age     age in years\n",
            "    - sex\n",
            "    - bmi     body mass index\n",
            "    - bp      average blood pressure\n",
            "    - s1      tc, total serum cholesterol\n",
            "    - s2      ldl, low-density lipoproteins\n",
            "    - s3      hdl, high-density lipoproteins\n",
            "    - s4      tch, total cholesterol / HDL\n",
            "    - s5      ltg, possibly log of serum triglycerides level\n",
            "    - s6      glu, blood sugar level\n",
            "\n",
            "Note: Each of these 10 feature variables have been mean centered and scaled by the standard deviation times the square root of `n_samples` (i.e. the sum of squares of each column totals 1).\n",
            "\n",
            "Source URL:\n",
            "https://www4.stat.ncsu.edu/~boos/var.select/diabetes.html\n",
            "\n",
            "For more information see:\n",
            "Bradley Efron, Trevor Hastie, Iain Johnstone and Robert Tibshirani (2004) \"Least Angle Regression,\" Annals of Statistics (with discussion), 407-499.\n",
            "(https://web.stanford.edu/~hastie/Papers/LARS/LeastAngle_2002.pdf)\n",
            "\n"
          ]
        }
      ],
      "source": [
        "print(diabetes[\"DESCR\"])"
      ]
    },
    {
      "cell_type": "markdown",
      "metadata": {
        "id": "1rCXVvL4QNlW"
      },
      "source": [
        "¿Cuáles son las variables de este conjunto de datos según la descripción? Enuméralas en la celda markdown siguiente"
      ]
    },
    {
      "cell_type": "markdown",
      "metadata": {
        "id": "gJr8m9MAQNlX"
      },
      "source": [
        "Son 10 variables predictivas:\n",
        "- age     age in years\n",
        "- sex\n",
        "- bmi     body mass index\n",
        "- bp      average blood pressure\n",
        "- s1      tc, total serum cholesterol\n",
        "- s2      ldl, low-density lipoproteins\n",
        "- s3      hdl, high-density lipoproteins\n",
        "- s4      tch, total cholesterol / HDL\n",
        "- s5      ltg, possibly log of serum triglycerides level\n",
        "- s6      glu, blood sugar level\n",
        "\n",
        "Y 1 variable objetivo:\n",
        "- Quantitative measure of disease progression one year after baseline"
      ]
    },
    {
      "cell_type": "markdown",
      "metadata": {
        "id": "Sc_pKXOaQNlX"
      },
      "source": [
        "#### Introduzca aquí su respuesta:\n",
        "\n",
        "edad, sexo, índice de masa corporal, tensión arterial media, s1, s2, s3, s4, s5, s6"
      ]
    },
    {
      "cell_type": "markdown",
      "metadata": {
        "id": "4yFvAXM9QNlY"
      },
      "source": [
        "Ahora explora los datos. Scikit-learn normalmente toma arrays numpy 2D como entrada (aunque también se aceptan dataframes pandas). En la celda de abajo encuentra la forma del array numpy contenido en la parte de datos de la variable diabetes."
      ]
    },
    {
      "cell_type": "code",
      "execution_count": 12,
      "metadata": {
        "colab": {
          "base_uri": "https://localhost:8080/"
        },
        "id": "zk2Z4ab6QNlY",
        "outputId": "b34dea2e-a0e0-4aaa-fa73-9a05520a863e"
      },
      "outputs": [
        {
          "output_type": "stream",
          "name": "stdout",
          "text": [
            "La forma del array numpy de entrada es (442, 10).\n",
            "La forma del array numpy de salida es (442,).\n"
          ]
        }
      ],
      "source": [
        "X, y = diabetes.data, diabetes.target\n",
        "\n",
        "print(f\"La forma del array numpy de entrada es {X.shape}.\")\n",
        "print(f\"La forma del array numpy de salida es {y.shape}.\")"
      ]
    },
    {
      "cell_type": "markdown",
      "metadata": {
        "id": "6jYQq6htQNlZ"
      },
      "source": [
        "# Reto 2 - Realizar aprendizaje supervisado en el conjunto de datos"
      ]
    },
    {
      "cell_type": "markdown",
      "metadata": {
        "id": "weGS4aQnQNlZ"
      },
      "source": [
        "#### Los datos ya se han dividido en variables predictoras y de respuesta. La variable de respuesta se encuentra en la parte «objetivo» de la variable.\n",
        "\n",
        "Dada esta información, vamos a aplicar lo que hemos aprendido previamente sobre regresión lineal y aplicar el algoritmo al conjunto de datos de la diabetes. En la celda de abajo, importa la clase de regresión lineal de sklearn."
      ]
    },
    {
      "cell_type": "code",
      "source": [
        "from sklearn.linear_model import LinearRegression"
      ],
      "metadata": {
        "id": "CpoHnhgQVUTD"
      },
      "execution_count": 13,
      "outputs": []
    },
    {
      "cell_type": "markdown",
      "metadata": {
        "id": "WBEsIYOuQNla"
      },
      "source": [
        "Inicializar el modelo en la variable `diabetes_model`."
      ]
    },
    {
      "cell_type": "code",
      "execution_count": 14,
      "metadata": {
        "id": "ygGXX73MQNla"
      },
      "outputs": [],
      "source": [
        "diabetes_model = LinearRegression()"
      ]
    },
    {
      "cell_type": "markdown",
      "metadata": {
        "id": "EnVjSHTDQNla"
      },
      "source": [
        "En la celda de abajo, ajusta el modelo e imprime el intercepto y los coeficientes del modelo."
      ]
    },
    {
      "cell_type": "code",
      "source": [
        "# Ajustar el modelo a los datos de entrenamiento\n",
        "diabetes_model.fit(X, y)\n",
        "\n",
        "# Imprimir el intercepto y los coeficientes del modelo\n",
        "print(\"Intercepto del modelo:\", diabetes_model.intercept_)\n",
        "print(\"Coeficientes del modelo:\", diabetes_model.coef_)"
      ],
      "metadata": {
        "colab": {
          "base_uri": "https://localhost:8080/"
        },
        "id": "3hah7ZNQV9lZ",
        "outputId": "325460e6-2cf8-4240-c568-6c4b88b60248"
      },
      "execution_count": 17,
      "outputs": [
        {
          "output_type": "stream",
          "name": "stdout",
          "text": [
            "Intercepto del modelo: 152.13348416289597\n",
            "Coeficientes del modelo: [ -10.0098663  -239.81564367  519.84592005  324.3846455  -792.17563855\n",
            "  476.73902101  101.04326794  177.06323767  751.27369956   67.62669218]\n"
          ]
        }
      ]
    },
    {
      "cell_type": "code",
      "execution_count": 16,
      "metadata": {
        "colab": {
          "base_uri": "https://localhost:8080/"
        },
        "id": "onIBzAIrQNlc",
        "outputId": "a576ff87-2e34-4bcc-de6a-bc93bc82d1db"
      },
      "outputs": [
        {
          "output_type": "stream",
          "name": "stdout",
          "text": [
            "Intercepto del modelo: 151.34560453985995\n",
            "Coeficientes del modelo: [  37.90402135 -241.96436231  542.42875852  347.70384391 -931.48884588\n",
            "  518.06227698  163.41998299  275.31790158  736.1988589    48.67065743]\n"
          ]
        }
      ],
      "source": [
        "from sklearn.model_selection import train_test_split\n",
        "# Dividir los datos en conjuntos de entrenamiento y prueba (opcional pero recomendado para evaluar el modelo)\n",
        "X_train, X_test, y_train, y_test = train_test_split(X, y, test_size=0.2, random_state=42)\n",
        "\n",
        "# Ajustar el modelo a los datos de entrenamiento\n",
        "diabetes_model.fit(X_train, y_train)\n",
        "\n",
        "# Imprimir el intercepto y los coeficientes del modelo\n",
        "print(\"Intercepto del modelo:\", diabetes_model.intercept_)\n",
        "print(\"Coeficientes del modelo:\", diabetes_model.coef_)"
      ]
    },
    {
      "cell_type": "markdown",
      "metadata": {
        "id": "0FCKiynyQNld"
      },
      "source": [
        "# Reto bonus 1 - Realizar una prueba de hipótesis sobre el modelo\n",
        "\n",
        "Una vez que hemos generado un modelo lineal, podemos probar cada coeficiente utilizando una prueba t para ver si el intervalo de confianza de la variable contiene cero. También podemos realizar una prueba F global para comprobar si al menos un coeficiente es significativamente distinto de cero.\n",
        "\n",
        "Consulte el recurso en este [enlace](https://onlinecourses.science.psu.edu/stat501/node/297/) para obtener más detalles y realice las pruebas t para el modelo anterior. Además, interprete los resultados y enumere los coeficientes que son significativamente diferentes de cero.\n",
        "\n",
        "\n",
        "Sugerencia: utilice el paquete statsmodels.\n",
        "\n",
        "Su resultado debería ser similar al siguiente\n",
        "\n",
        "![image.png](attachment:image.png)"
      ]
    },
    {
      "cell_type": "code",
      "execution_count": 18,
      "metadata": {
        "colab": {
          "base_uri": "https://localhost:8080/"
        },
        "id": "rTJar_A3QNle",
        "outputId": "377ef1a5-c357-4464-d9bc-03e505f54050"
      },
      "outputs": [
        {
          "output_type": "stream",
          "name": "stdout",
          "text": [
            "                            OLS Regression Results                            \n",
            "==============================================================================\n",
            "Dep. Variable:                      y   R-squared:                       0.518\n",
            "Model:                            OLS   Adj. R-squared:                  0.507\n",
            "Method:                 Least Squares   F-statistic:                     46.27\n",
            "Date:                Thu, 21 Nov 2024   Prob (F-statistic):           3.83e-62\n",
            "Time:                        20:16:39   Log-Likelihood:                -2386.0\n",
            "No. Observations:                 442   AIC:                             4794.\n",
            "Df Residuals:                     431   BIC:                             4839.\n",
            "Df Model:                          10                                         \n",
            "Covariance Type:            nonrobust                                         \n",
            "==============================================================================\n",
            "                 coef    std err          t      P>|t|      [0.025      0.975]\n",
            "------------------------------------------------------------------------------\n",
            "const        152.1335      2.576     59.061      0.000     147.071     157.196\n",
            "x1           -10.0099     59.749     -0.168      0.867    -127.446     107.426\n",
            "x2          -239.8156     61.222     -3.917      0.000    -360.147    -119.484\n",
            "x3           519.8459     66.533      7.813      0.000     389.076     650.616\n",
            "x4           324.3846     65.422      4.958      0.000     195.799     452.970\n",
            "x5          -792.1756    416.680     -1.901      0.058   -1611.153      26.802\n",
            "x6           476.7390    339.030      1.406      0.160    -189.620    1143.098\n",
            "x7           101.0433    212.531      0.475      0.635    -316.684     518.770\n",
            "x8           177.0632    161.476      1.097      0.273    -140.315     494.441\n",
            "x9           751.2737    171.900      4.370      0.000     413.407    1089.140\n",
            "x10           67.6267     65.984      1.025      0.306     -62.064     197.318\n",
            "==============================================================================\n",
            "Omnibus:                        1.506   Durbin-Watson:                   2.029\n",
            "Prob(Omnibus):                  0.471   Jarque-Bera (JB):                1.404\n",
            "Skew:                           0.017   Prob(JB):                        0.496\n",
            "Kurtosis:                       2.726   Cond. No.                         227.\n",
            "==============================================================================\n",
            "\n",
            "Notes:\n",
            "[1] Standard Errors assume that the covariance matrix of the errors is correctly specified.\n"
          ]
        }
      ],
      "source": [
        "import numpy as np\n",
        "import pandas as pd\n",
        "import statsmodels.api as sm\n",
        "from sklearn.datasets import load_diabetes\n",
        "\n",
        "# Cargar el dataset de diabetes\n",
        "diabetes = load_diabetes()\n",
        "\n",
        "# Convertir a DataFrame para facilitar el uso con statsmodels\n",
        "X = diabetes.data\n",
        "y = diabetes.target\n",
        "X = sm.add_constant(X)  # Agregar una constante para el intercepto\n",
        "\n",
        "# Ajustar el modelo utilizando statsmodels\n",
        "modelo = sm.OLS(y, X).fit()\n",
        "\n",
        "# Obtener resumen del modelo\n",
        "resumen = modelo.summary()\n",
        "print(resumen)"
      ]
    },
    {
      "cell_type": "markdown",
      "metadata": {
        "id": "v2dDg8mIQNle"
      },
      "source": [
        "# Reto 3 - Realizar aprendizaje supervisado en un marco de datos Pandas"
      ]
    },
    {
      "cell_type": "markdown",
      "metadata": {
        "id": "tKlLnWDaQNlf"
      },
      "source": [
        "Ahora que hemos visto los datos que han sido formateados para scikit-learn, vamos a ver los datos que tendremos que formatear nosotros mismos.\n",
        "\n",
        "En la siguiente celda, cargue el archivo `auto-mpg.csv` incluido en esta carpeta y asígnalo a una variable llamada `auto`."
      ]
    },
    {
      "cell_type": "code",
      "execution_count": null,
      "metadata": {
        "id": "Xi6kkPiMQNlf"
      },
      "outputs": [],
      "source": [
        "# Your code here:"
      ]
    },
    {
      "cell_type": "markdown",
      "metadata": {
        "id": "pIKArhJYQNlg"
      },
      "source": [
        "Mira las 5 primeras filas usando la función `head()`:"
      ]
    },
    {
      "cell_type": "code",
      "execution_count": null,
      "metadata": {
        "id": "8MzwWcE4QNlg"
      },
      "outputs": [],
      "source": [
        "# Your code here:"
      ]
    },
    {
      "cell_type": "markdown",
      "metadata": {
        "id": "Oq8LcBS1QNlg"
      },
      "source": [
        "Evalúa los datos para asegurar que todas las columnas numéricas son detectadas correctamente como tales por pandas. Si una columna se clasifica erróneamente como objeto, cámbiala a numérica."
      ]
    },
    {
      "cell_type": "code",
      "execution_count": null,
      "metadata": {
        "id": "vl-6T8-qQNlh"
      },
      "outputs": [],
      "source": [
        "# Your code here: all of them are numbers"
      ]
    },
    {
      "cell_type": "markdown",
      "metadata": {
        "id": "KJUd9CC9QNlh"
      },
      "source": [
        "¿Cuál es el año del modelo más reciente y el año del modelo más antiguo?"
      ]
    },
    {
      "cell_type": "code",
      "execution_count": null,
      "metadata": {
        "id": "4dc76S3yQNlh"
      },
      "outputs": [],
      "source": [
        "# Your code here:"
      ]
    },
    {
      "cell_type": "markdown",
      "metadata": {
        "id": "6hChCsywQNlh"
      },
      "source": [
        "Comprueba si faltan valores en el conjunto de datos y elimina todas las filas que contengan al menos un valor omitido."
      ]
    },
    {
      "cell_type": "code",
      "execution_count": null,
      "metadata": {
        "id": "R4ccFq8hQNli"
      },
      "outputs": [],
      "source": [
        "# Your code here:"
      ]
    },
    {
      "cell_type": "code",
      "execution_count": null,
      "metadata": {
        "id": "TJnhgFyAQNli"
      },
      "outputs": [],
      "source": [
        "auto.dropna(axis=0, how=\"any\", inplace=True)"
      ]
    },
    {
      "cell_type": "markdown",
      "metadata": {
        "id": "cQcw34hIQNli"
      },
      "source": [
        "Encuentra la tabla de frecuencias para la columna `cylinders` utilizando la función `value_counts()`. ¿Cuántos valores posibles de cilindros hay?"
      ]
    },
    {
      "cell_type": "code",
      "execution_count": null,
      "metadata": {
        "id": "Lqk5fPmXQNli"
      },
      "outputs": [],
      "source": [
        "# Your code here: 5 values"
      ]
    },
    {
      "cell_type": "markdown",
      "metadata": {
        "id": "mMwlOrk2QNli"
      },
      "source": [
        "Queremos generar un modelo de regresión lineal que prediga el mpg. Para ello, en primer lugar, elimina la columna «car_name», ya que no contiene ningún dato cuantitativo. A continuación, separa el marco de datos en variables predictoras y de respuesta. Sepáralos en datos de train y de test, con el 80% de los datos en el conjunto de entrenamiento y el resto en el conjunto de prueba.\n",
        "\n",
        "Asigna los datos de entrenamiento del predictor y de la respuesta a `X_train` y `y_train` respectivamente. Del mismo modo, asigna los datos de prueba del predictor y de la respuesta a `X_test` y `y_test`."
      ]
    },
    {
      "cell_type": "code",
      "execution_count": null,
      "metadata": {
        "id": "zR7F1M1gQNlj"
      },
      "outputs": [],
      "source": [
        "# Import the necessary function"
      ]
    },
    {
      "cell_type": "markdown",
      "metadata": {
        "id": "JBPkcdR2QNlo"
      },
      "source": [
        "Ahora vamos a procesar el conjunto de datos y realizar una regresión lineal sobre estos datos para predecir el mpg para cada vehículo. Inicializa el modelo en la celda de abajo."
      ]
    },
    {
      "cell_type": "code",
      "execution_count": null,
      "metadata": {
        "id": "kTgfcoA6QNlo"
      },
      "outputs": [],
      "source": [
        "# Your code here:\n"
      ]
    },
    {
      "cell_type": "markdown",
      "metadata": {
        "id": "nHm8ycEzQNlp"
      },
      "source": [
        "A continuación, ajusta el modelo en la celda inferior."
      ]
    },
    {
      "cell_type": "code",
      "execution_count": null,
      "metadata": {
        "id": "JQHWClaWQNlp"
      },
      "outputs": [],
      "source": [
        "# Your code here:"
      ]
    },
    {
      "cell_type": "markdown",
      "metadata": {
        "id": "60v4RhKZQNlp"
      },
      "source": [
        "# Reto 4 - Evaluar el modelo\n",
        "\n",
        "La puntuación r al cuadrado de un modelo nos indica cuánta variación explica el modelo. En un conjunto de datos típico, la mayoría de las observaciones difieren de la media. Cuando creamos un modelo, intentamos generar una ecuación que nos diga en qué medida cada observación difiere de la media. Obviamente, la gran mayoría de los modelos no son perfectos. Sólo pueden predecir una parte de la variación con respecto a la media, pero no toda. Atribuimos el resto de la diferencia entre el valor real y la media al error aleatorio. Nos gustaría que el error aleatorio explicara la menor parte posible de la variación. Por eso la puntuación r al cuadrado es una métrica importante.\n",
        "\n",
        "En la siguiente celda, calcula la puntuación r al cuadrado del modelo. Para ello, primero calcula los valores predichos y asígnalos a `y_pred`."
      ]
    },
    {
      "cell_type": "code",
      "execution_count": null,
      "metadata": {
        "id": "CweXx4SsQNlp"
      },
      "outputs": [],
      "source": [
        "# Your code here:"
      ]
    },
    {
      "cell_type": "markdown",
      "metadata": {
        "id": "_JBbNqSMQNlp"
      },
      "source": [
        "#### Nuestro siguiente paso es evaluar el modelo utilizando los datos de prueba. Queremos asegurarnos de que nuestro modelo no se ajusta en exceso a los datos. Esto significa que nuestro modelo no será capaz de generalizar bien fuera de los datos de entrenamiento.\n",
        "\n",
        "En la celda siguiente, utiliza el modelo para generar los valores predichos para los datos de entrenamiento y asígnalos a `y_test_pred`. Calcula la puntuación r al cuadrado para los datos de prueba comparando los datos observados de `y_train` y los predichos de `y_test_pred`."
      ]
    },
    {
      "cell_type": "code",
      "execution_count": null,
      "metadata": {
        "id": "FjLb2ZS6QNlq"
      },
      "outputs": [],
      "source": [
        "# Your code here:"
      ]
    },
    {
      "cell_type": "markdown",
      "metadata": {
        "id": "x5qib5efQNlq"
      },
      "source": [
        "# Reto 5 - Mejorar el ajuste del modelo\n",
        "\n",
        "Aunque la forma más común de mejorar el ajuste de un modelo es utilizando la regularización, hay otras formas más sencillas de mejorar el ajuste del modelo. La primera es crear un modelo más simple. La segunda es aumentar el tamaño de la muestra de entrenamiento.\n",
        "\n",
        "Empecemos con la opción más sencilla y aumentemos el tamaño de la muestra de entrenamiento al 90% de los datos. Cre una nueva división train-test y denomina a los nuevos predictores y variables de respuesta `X_entrenamiento09`, `X_prueba09`, `y_entrenamiento09`, `y_prueba09`."
      ]
    },
    {
      "cell_type": "code",
      "execution_count": null,
      "metadata": {
        "id": "VKyFyrQKQNlq"
      },
      "outputs": [],
      "source": [
        "# Your code here:"
      ]
    },
    {
      "cell_type": "markdown",
      "metadata": {
        "id": "2485912CQNlq"
      },
      "source": [
        "Inicializa un nuevo modelo. Nombre este modelo `auto_model09`. Ajusta el modelo a los nuevos datos de muestra."
      ]
    },
    {
      "cell_type": "code",
      "execution_count": null,
      "metadata": {
        "id": "bOT-f6HuQNlr"
      },
      "outputs": [],
      "source": [
        "# Your code here:"
      ]
    },
    {
      "cell_type": "markdown",
      "metadata": {
        "id": "j_I7_RAsQNlr"
      },
      "source": [
        "Calcula los valores predichos y la puntuación r al cuadrado para nuestro nuevo modelo y los nuevos datos de muestra."
      ]
    },
    {
      "cell_type": "code",
      "execution_count": null,
      "metadata": {
        "id": "hfw1MX_CQNlr"
      },
      "outputs": [],
      "source": [
        "# Your code here:"
      ]
    },
    {
      "cell_type": "markdown",
      "metadata": {
        "id": "KccGfEr9QNlr"
      },
      "source": [
        "Calcula la puntuación r al cuadrado para el conjunto de prueba más pequeño. ¿Existe una mejora en la r al cuadrado de la prueba?"
      ]
    },
    {
      "cell_type": "code",
      "execution_count": null,
      "metadata": {
        "id": "frtnKKyqQNls"
      },
      "outputs": [],
      "source": [
        "# Your code here:"
      ]
    },
    {
      "cell_type": "markdown",
      "metadata": {
        "id": "k_ci5i6mQNls"
      },
      "source": [
        "# Reto bonus 2 - Backward Elimination\n",
        "\n",
        "\n",
        "La principal forma de producir un modelo de regresión lineal más simple es reducir el número de variables utilizadas en el modelo. En scikit-learn, podemos hacer esto mediante el uso de la eliminación recursiva de características. Puedes leer más sobre RFE [aquí](https://scikit-learn.org/stable/modules/generated/sklearn.feature_selection.RFE.html).\n",
        "\n",
        "En la siguiente celda, vamos a importar RFE"
      ]
    },
    {
      "cell_type": "code",
      "execution_count": null,
      "metadata": {
        "id": "rlMpyL_TQNls"
      },
      "outputs": [],
      "source": [
        "from sklearn.feature_selection import RFE"
      ]
    },
    {
      "cell_type": "markdown",
      "metadata": {
        "id": "qA-9V0KSQNlt"
      },
      "source": [
        "Sigue la documentación e inicializa un modelo RFE utilizando el modelo de regresión lineal `auto_model`. Establece `n_features_to_select=3`."
      ]
    },
    {
      "cell_type": "code",
      "execution_count": null,
      "metadata": {
        "id": "gVLZgKBaQNlt"
      },
      "outputs": [],
      "source": [
        "# Your code here:"
      ]
    },
    {
      "cell_type": "markdown",
      "metadata": {
        "id": "qr3cc_JNQNlt"
      },
      "source": [
        "Ajusta el modelo e imprime la clasificación"
      ]
    },
    {
      "cell_type": "code",
      "execution_count": null,
      "metadata": {
        "id": "-ebMul_hQNlu"
      },
      "outputs": [],
      "source": [
        "# Your code here:\n"
      ]
    },
    {
      "cell_type": "markdown",
      "metadata": {
        "id": "vV3oCpLeQNlv"
      },
      "source": [
        "La importancia de las características se clasifica de la más importante (1) a la menos importante (4). Genera un modelo con las tres características más importantes. Las características corresponden a los nombres de las variables. Por ejemplo, la característica 1 es «cilindros» y la característica 2 es «desplazamiento».\n",
        "\n",
        "Realiza una división train-test en esta columna de datos reducida y llama a los datos divididos `X_train_reduced`, `X_test_reduced`, `y_test_reduced`, `y_train_reduced`. Utiliza una división del 80%."
      ]
    },
    {
      "cell_type": "code",
      "execution_count": null,
      "metadata": {
        "id": "WmGddapvQNlv"
      },
      "outputs": [],
      "source": [
        "# Your code here:"
      ]
    },
    {
      "cell_type": "markdown",
      "metadata": {
        "id": "GKnLso9DQNlw"
      },
      "source": [
        "Genera un nuevo modelo llamado `auto_model_reduced` y ajusta este modelo. A continuación, calcula la puntuación r al cuadrado del modelo. ¿Ha mejorado la puntuación r al cuadrado?"
      ]
    },
    {
      "cell_type": "code",
      "execution_count": null,
      "metadata": {
        "id": "lBCXHwqdQNlw"
      },
      "outputs": [],
      "source": [
        "# Your code here:"
      ]
    }
  ],
  "metadata": {
    "kernelspec": {
      "display_name": "Python 3 (ipykernel)",
      "language": "python",
      "name": "python3"
    },
    "language_info": {
      "codemirror_mode": {
        "name": "ipython",
        "version": 3
      },
      "file_extension": ".py",
      "mimetype": "text/x-python",
      "name": "python",
      "nbconvert_exporter": "python",
      "pygments_lexer": "ipython3",
      "version": "3.11.5"
    },
    "colab": {
      "provenance": []
    }
  },
  "nbformat": 4,
  "nbformat_minor": 0
}