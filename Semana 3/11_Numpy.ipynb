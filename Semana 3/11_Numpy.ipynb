{
  "cells": [
    {
      "cell_type": "markdown",
      "metadata": {
        "id": "OwtDRNznH-99"
      },
      "source": [
        "# NUMPY. Numerical Computing with Python\n",
        "\n",
        "Python language is an excellent tool for general-purpose programming, with a highly readable syntax, rich and powerful data types and totally Zen.\n",
        "\n",
        "However, it was not designed specifically for mathematical and scientific computing. In particular, Python lists are very flexible containers, but they are poorly suited to represent efficiently common mathematical constructs like vectors and matrices.\n",
        "\n",
        "Fortunately, exists the **numpy** package (module) which is a package that provide high-performance vector, matrix and higher-dimensional data structures for Python. It is implemented in C and Fortran so when calculations are vectorized (formulated with vectors and matrices), performance is very good. It is used in almost all numerical computation using Python.\n",
        "\n",
        "**Why not simply use Python lists for computations instead of creating a new array type?**\n",
        "\n",
        "There are several reasons:\n",
        "\n",
        "* Python lists are very general. They can contain any kind of object. They are dynamically typed. They do not support mathematical functions such as matrix and dot multiplications, etc. Implementating such functions for Python lists would not be very efficient because of the dynamic typing.\n",
        "* Numpy arrays are statically typed and homogeneous. The type of the elements is determined when array is created.\n",
        "* Numpy arrays are memory efficient.\n",
        "* Because of the static typing, fast implementation of mathematical functions such as multiplication and addition of numpy arrays can be implemented in a compiled language (C and Fortran is used)."
      ]
    },
    {
      "cell_type": "markdown",
      "metadata": {
        "id": "-pSEVJAnH--C"
      },
      "source": [
        "![elgif](https://media.giphy.com/media/VHqZtsoHHPo58EL7Ua/giphy.gif)"
      ]
    },
    {
      "cell_type": "markdown",
      "metadata": {
        "toc": true,
        "id": "Wp3a9IgwH--C"
      },
      "source": [
        "<h1>Table of Contents<span class=\"tocSkip\"></span></h1>\n",
        "<div class=\"toc\"><ul class=\"toc-item\"><li><span><a href=\"#What-is-Numpy?\" data-toc-modified-id=\"What-is-Numpy?-1\"><span class=\"toc-item-num\">1&nbsp;&nbsp;</span>What is Numpy?</a></span></li><li><span><a href=\"#Work-with-numeric-data\" data-toc-modified-id=\"Work-with-numeric-data-2\"><span class=\"toc-item-num\">2&nbsp;&nbsp;</span>Work with numeric data</a></span></li><li><span><a href=\"#Go-from-Python-lists-to-Numpy-arrays\" data-toc-modified-id=\"Go-from-Python-lists-to-Numpy-arrays-3\"><span class=\"toc-item-num\">3&nbsp;&nbsp;</span>Go from Python lists to Numpy arrays</a></span></li><li><span><a href=\"#Operating-with-Numpy-Arrays\" data-toc-modified-id=\"Operating-with-Numpy-Arrays-4\"><span class=\"toc-item-num\">4&nbsp;&nbsp;</span>Operating with Numpy Arrays</a></span></li><li><span><a href=\"#Advantages-of-using-Numpy-arrays\" data-toc-modified-id=\"Advantages-of-using-Numpy-arrays-5\"><span class=\"toc-item-num\">5&nbsp;&nbsp;</span>Advantages of using Numpy arrays</a></span></li><li><span><a href=\"#Create-Arrays\" data-toc-modified-id=\"Create-Arrays-6\"><span class=\"toc-item-num\">6&nbsp;&nbsp;</span>Create Arrays</a></span><ul class=\"toc-item\"><li><span><a href=\"#random-numbers\" data-toc-modified-id=\"random-numbers-6.1\"><span class=\"toc-item-num\">6.1&nbsp;&nbsp;</span>random numbers</a></span></li><li><span><a href=\"#Range\" data-toc-modified-id=\"Range-6.2\"><span class=\"toc-item-num\">6.2&nbsp;&nbsp;</span>Range</a></span></li><li><span><a href=\"#Linespace\" data-toc-modified-id=\"Linespace-6.3\"><span class=\"toc-item-num\">6.3&nbsp;&nbsp;</span>Linespace</a></span></li><li><span><a href=\"#around\" data-toc-modified-id=\"around-6.4\"><span class=\"toc-item-num\">6.4&nbsp;&nbsp;</span>around</a></span></li><li><span><a href=\"#Arrays-from-data\" data-toc-modified-id=\"Arrays-from-data-6.5\"><span class=\"toc-item-num\">6.5&nbsp;&nbsp;</span>Arrays from data</a></span></li></ul></li><li><span><a href=\"#Return-a-numpy-array-to-list\" data-toc-modified-id=\"Return-a-numpy-array-to-list-7\"><span class=\"toc-item-num\">7&nbsp;&nbsp;</span>Return a numpy array to list</a></span><ul class=\"toc-item\"><li><span><a href=\"#Array-of-ZEROs\" data-toc-modified-id=\"Array-of-ZEROs-7.1\"><span class=\"toc-item-num\">7.1&nbsp;&nbsp;</span>Array of ZEROs</a></span></li><li><span><a href=\"#Array-of-ONES\" data-toc-modified-id=\"Array-of-ONES-7.2\"><span class=\"toc-item-num\">7.2&nbsp;&nbsp;</span>Array of ONES</a></span></li><li><span><a href=\"#DIAGONAL-Array\" data-toc-modified-id=\"DIAGONAL-Array-7.3\"><span class=\"toc-item-num\">7.3&nbsp;&nbsp;</span>DIAGONAL Array</a></span></li></ul></li><li><span><a href=\"#Dtypes\" data-toc-modified-id=\"Dtypes-8\"><span class=\"toc-item-num\">8&nbsp;&nbsp;</span>Dtypes</a></span></li><li><span><a href=\"#Explore-arrays-and-their-properties\" data-toc-modified-id=\"Explore-arrays-and-their-properties-9\"><span class=\"toc-item-num\">9&nbsp;&nbsp;</span>Explore arrays and their properties</a></span></li><li><span><a href=\"#Manipulate-arrays\" data-toc-modified-id=\"Manipulate-arrays-10\"><span class=\"toc-item-num\">10&nbsp;&nbsp;</span>Manipulate arrays</a></span><ul class=\"toc-item\"><li><ul class=\"toc-item\"><li><span><a href=\"#Transpose\" data-toc-modified-id=\"Transpose-10.0.1\"><span class=\"toc-item-num\">10.0.1&nbsp;&nbsp;</span><a href=\"https://numpy.org/doc/stable/reference/generated/numpy.transpose.html\" rel=\"nofollow\" target=\"_blank\">Transpose</a></a></span></li></ul></li><li><span><a href=\"#Cannot-transpose-a-list\" data-toc-modified-id=\"Cannot-transpose-a-list-10.1\"><span class=\"toc-item-num\">10.1&nbsp;&nbsp;</span>Cannot transpose a list</a></span></li></ul></li><li><span><a href=\"#Updating-the-value-of-a-ndim-array\" data-toc-modified-id=\"Updating-the-value-of-a-ndim-array-11\"><span class=\"toc-item-num\">11&nbsp;&nbsp;</span>Updating the value of a ndim array</a></span></li><li><span><a href=\"#Array-comparison\" data-toc-modified-id=\"Array-comparison-12\"><span class=\"toc-item-num\">12&nbsp;&nbsp;</span>Array comparison</a></span></li><li><span><a href=\"#Array-indexing-and-slicing\" data-toc-modified-id=\"Array-indexing-and-slicing-13\"><span class=\"toc-item-num\">13&nbsp;&nbsp;</span>Array indexing and slicing</a></span><ul class=\"toc-item\"><li><span><a href=\"#Mix-of-indexes-and-ranges\" data-toc-modified-id=\"Mix-of-indexes-and-ranges-13.1\"><span class=\"toc-item-num\">13.1&nbsp;&nbsp;</span>Mix of indexes and ranges</a></span></li></ul></li><li><span><a href=\"#Methods-of-np.arrays\" data-toc-modified-id=\"Methods-of-np.arrays-14\"><span class=\"toc-item-num\">14&nbsp;&nbsp;</span>Methods of np.arrays</a></span><ul class=\"toc-item\"><li><span><a href=\"#Numpy-methods\" data-toc-modified-id=\"Numpy-methods-14.1\"><span class=\"toc-item-num\">14.1&nbsp;&nbsp;</span>Numpy methods</a></span></li></ul></li><li><span><a href=\"#Fun-things-that-Numpy-allows-us-to-do\" data-toc-modified-id=\"Fun-things-that-Numpy-allows-us-to-do-15\"><span class=\"toc-item-num\">15&nbsp;&nbsp;</span>Fun things that Numpy allows us to do</a></span></li><li><span><a href=\"#Some-methods:\" data-toc-modified-id=\"Some-methods:-16\"><span class=\"toc-item-num\">16&nbsp;&nbsp;</span>Some methods:</a></span></li><li><span><a href=\"#Summary\" data-toc-modified-id=\"Summary-17\"><span class=\"toc-item-num\">17&nbsp;&nbsp;</span>Summary</a></span></li><li><span><a href=\"#Further-materials\" data-toc-modified-id=\"Further-materials-18\"><span class=\"toc-item-num\">18&nbsp;&nbsp;</span>Further materials</a></span></li></ul></div>"
      ]
    },
    {
      "cell_type": "markdown",
      "metadata": {
        "lang": "en",
        "id": "nypVkiTnH--D"
      },
      "source": [
        "## What is Numpy?"
      ]
    },
    {
      "cell_type": "code",
      "execution_count": 1,
      "metadata": {
        "id": "686QyX7MH--E"
      },
      "outputs": [],
      "source": [
        "import numpy as np"
      ]
    },
    {
      "cell_type": "markdown",
      "metadata": {
        "lang": "en",
        "id": "q64n4xWhH--F"
      },
      "source": [
        "NumPy, short for \"Numerical Python,\" is a powerful library for the Python programming language. It is specifically designed to facilitate the creation and manipulation of large multidimensional arrays and matrices, along with an extensive collection of high-level mathematical functions to operate on these arrays. NumPy is widely used in scientific and data-related applications for its efficient numerical computing capabilities.\n",
        "\n",
        "The origins of NumPy can be traced back to the \"Numeric\" library, initially developed by Jim Hugunin, with contributions from several other developers. Over time, NumPy evolved and expanded its capabilities. In 2005, Travis Oliphant played a crucial role in merging features from a competing library called Numarray into Numeric, resulting in the birth of NumPy. Since then, NumPy has gained tremendous popularity and has become an integral part of the Python ecosystem. It is an open-source project with a vibrant community of contributors.\n",
        "\n",
        "At the heart of the NumPy package lies the `ndarray` (short for \"n-dimensional array\") object. This fundamental data structure allows users to create arrays with multiple dimensions, all containing homogeneous data types. One of the key strengths of NumPy is its ability to execute many operations efficiently by using code that is compiled for performance. This makes NumPy well-suited for tasks involving numerical computation and data manipulation.\n",
        "\n",
        "There are several noteworthy differences between NumPy arrays and standard Python sequences:\n"
      ]
    },
    {
      "cell_type": "markdown",
      "metadata": {
        "id": "-fGMV6u3H--G"
      },
      "source": [
        "![numpy.png](attachment:numpy.png)"
      ]
    },
    {
      "cell_type": "markdown",
      "metadata": {
        "lang": "en",
        "id": "oro5kP8kH--G"
      },
      "source": [
        "**Numpy** is here to make our life easier.\n",
        "\n",
        "## Work with numeric data\n",
        "\n",
        "In the realm of data analysis, \"data\" often implies numerical information, such as stock prices, sales figures, sensor readings, sports scores, database tables, and more. For handling numerical computations in Python, the NumPy library offers specialized data structures, functions, and tools. Let's delve into an example to understand why and how NumPy is instrumental in working with numerical data.\n",
        "\n",
        "Consider a scenario where we want to assess whether a particular region is suitable for apple cultivation based on climate-related data, including temperature, rainfall, and humidity. A straightforward approach is to establish a relationship between the annual apple yield (measured in tonnes per hectare) and climatic factors like mean temperature (in degrees Fahrenheit), rainfall (in millimeters), and mean relative humidity (in percentage). We can express this relationship as a linear equation:\n",
        "\n",
        "`yield_of_apples = w1 * temperature + w2 * rainfall + w3 * humidity`\n",
        "\n",
        "Here, we represent apple yield as a weighted sum of temperature, rainfall, and humidity. While this equation serves as a simplification, the actual relationship may not be strictly linear, and additional factors could come into play. However, a basic linear model often provides practical insights.\n",
        "\n",
        "By analyzing historical data statistically, we can obtain reasonable values for the coefficients w1, w2, and w3. Here's an example of possible coefficient values:"
      ]
    },
    {
      "cell_type": "markdown",
      "metadata": {
        "id": "cmDBADj-H--G"
      },
      "source": [
        "![dat_np.png](attachment:dat_np.png)"
      ]
    },
    {
      "cell_type": "markdown",
      "metadata": {
        "lang": "en",
        "id": "b_hhPdlYH--G"
      },
      "source": [
        "We can now substitute these variables into the linear equation to predict the yield of the apples."
      ]
    },
    {
      "cell_type": "code",
      "execution_count": null,
      "metadata": {
        "id": "kkpGwbBRH--H"
      },
      "outputs": [],
      "source": [
        "w1, w2, w3 = 0.3, 0.2, 0.5"
      ]
    },
    {
      "cell_type": "markdown",
      "metadata": {
        "id": "aO6UgZ2jH--H"
      },
      "source": [
        "`yield_of_apples = w1 *temperature + w2* rainfall + w3 * humidity`"
      ]
    },
    {
      "cell_type": "markdown",
      "metadata": {
        "lang": "en",
        "id": "v-MRec6wH--H"
      },
      "source": [
        "To make the above calculation a bit easier for multiple regions, we can represent the climate data for each region as a vector, i.e. a list of numbers."
      ]
    },
    {
      "cell_type": "code",
      "execution_count": null,
      "metadata": {
        "id": "TtA9EUNFH--H"
      },
      "outputs": [],
      "source": [
        "yield_of_apples = w1 * 73 +  w2 * 67 + w3 * 43"
      ]
    },
    {
      "cell_type": "markdown",
      "metadata": {
        "lang": "en",
        "id": "qQExoCg7H--H"
      },
      "source": [
        "The three numbers in each vector represent the temperature, precipitation, and humidity data, respectively.\n",
        "We can also represent the set of weights used in the formula as a vector."
      ]
    },
    {
      "cell_type": "code",
      "execution_count": null,
      "metadata": {
        "id": "kvBfZFhLH--I"
      },
      "outputs": [],
      "source": [
        "weights = [w1, w2, w3]"
      ]
    },
    {
      "cell_type": "markdown",
      "metadata": {
        "lang": "en",
        "id": "bW-IWLoMH--J"
      },
      "source": [
        "How can we calculate the cultivation of each region?"
      ]
    },
    {
      "cell_type": "code",
      "execution_count": null,
      "metadata": {
        "id": "vcfuoI7CH--L"
      },
      "outputs": [],
      "source": [
        "# Define the weights as a vector\n",
        "weights = [w1, w2, w3]\n",
        "\n",
        "# Define the climate data for Kanto as a vector\n",
        "kanto_as_list = [73, 67, 43]"
      ]
    },
    {
      "cell_type": "code",
      "execution_count": null,
      "metadata": {
        "id": "wIx6tX7yH--L"
      },
      "outputs": [],
      "source": [
        "# Calculate the yield of apples for Kanto using the dot product\n",
        "yield_kanto = sum(w * x for w, x in zip(weights, kanto_as_list))"
      ]
    },
    {
      "cell_type": "code",
      "execution_count": null,
      "metadata": {
        "id": "05kiGZoXH--M"
      },
      "outputs": [],
      "source": [
        "# Similarly, you can calculate the yield for other regions like Johto\n",
        "johto = [91, 88, 64]\n",
        "yield_johto = sum(w * x for w, x in zip(weights, johto))"
      ]
    },
    {
      "cell_type": "markdown",
      "metadata": {
        "lang": "en",
        "id": "LjGFXx8GH--N"
      },
      "source": [
        "## Go from Python lists to Numpy arrays\n",
        "\n",
        "The operation we performed, which involved elementwise multiplication of two vectors and then summing the results, is commonly known as the dot product. If you'd like to explore the dot product in more detail, you can refer to the official NumPy documentation here: [NumPy Dot Product](https://numpy.org/doc/stable/reference/generated/numpy.dot.html).\n",
        "\n",
        "Before we can utilize NumPy's built-in function to compute the dot product, we need to convert our Python lists into NumPy arrays. To do this, we'll start by installing the NumPy library using the pip package manager.\n",
        "\n",
        "Next, we are going to import the numpy module. It is common practice to import numpy with the alias np. This is a convention, all programmers use the same names when importing libraries. It really works if I put any name, in case of numpy we always use np"
      ]
    },
    {
      "cell_type": "code",
      "execution_count": null,
      "metadata": {
        "id": "YIYf3ip1H--N"
      },
      "outputs": [],
      "source": [
        "import numpy as np"
      ]
    },
    {
      "cell_type": "markdown",
      "metadata": {
        "id": "fmLlilFzH--O"
      },
      "source": [
        "Let's start with a list, as before:"
      ]
    },
    {
      "cell_type": "code",
      "execution_count": null,
      "metadata": {
        "id": "2yhhTSFPH--O"
      },
      "outputs": [],
      "source": [
        "kanto_as_list = [73, 67, 43]"
      ]
    },
    {
      "cell_type": "code",
      "execution_count": null,
      "metadata": {
        "id": "i5fuFAp8H--O"
      },
      "outputs": [],
      "source": [
        "type(kanto_as_list)"
      ]
    },
    {
      "cell_type": "markdown",
      "metadata": {
        "id": "eTknj0ZyH--O"
      },
      "source": [
        "Now, we can convert it into a numpy array with the following operation:"
      ]
    },
    {
      "cell_type": "code",
      "execution_count": null,
      "metadata": {
        "id": "YS1W5RgiH--O"
      },
      "outputs": [],
      "source": [
        "kanto_array = np.array(kanto_as_list)"
      ]
    },
    {
      "cell_type": "code",
      "execution_count": null,
      "metadata": {
        "id": "7hxYpDaJH--O"
      },
      "outputs": [],
      "source": [
        "type(kanto_array)"
      ]
    },
    {
      "cell_type": "markdown",
      "metadata": {
        "id": "elnfy6__H--P"
      },
      "source": [
        "Let's do the same for the array:"
      ]
    },
    {
      "cell_type": "code",
      "execution_count": null,
      "metadata": {
        "id": "ST4ptjlyH--P"
      },
      "outputs": [],
      "source": [
        "weights_array = np.array([0.3, 0.2, 0.5])"
      ]
    },
    {
      "cell_type": "markdown",
      "metadata": {
        "id": "ZnpmsZO8H--P"
      },
      "source": [
        "Now, we can perform previous operation with simply this:"
      ]
    },
    {
      "cell_type": "code",
      "execution_count": null,
      "metadata": {
        "id": "AstfTD57H--P"
      },
      "outputs": [],
      "source": [
        "kanto_array * weights_array"
      ]
    },
    {
      "cell_type": "markdown",
      "metadata": {
        "id": "lQ_0cbWWH--P"
      },
      "source": [
        "And the final output is:"
      ]
    },
    {
      "cell_type": "code",
      "execution_count": null,
      "metadata": {
        "id": "bq5HIdyrH--P"
      },
      "outputs": [],
      "source": [
        "sum(kanto_array * weights_array)"
      ]
    },
    {
      "cell_type": "markdown",
      "metadata": {
        "lang": "en",
        "id": "MFBrk47hH--P"
      },
      "source": [
        "## Operating with Numpy Arrays"
      ]
    },
    {
      "cell_type": "markdown",
      "metadata": {
        "lang": "en",
        "id": "ztA84lQbH--P"
      },
      "source": [
        "The * operator performs an elementwise multiplication of two arrays if they are the same size. The sum method calculates the sum of the numbers in an array."
      ]
    },
    {
      "cell_type": "markdown",
      "metadata": {
        "id": "P1P0wU4xH--Q"
      },
      "source": [
        "weights_array * kanto_array"
      ]
    },
    {
      "cell_type": "markdown",
      "metadata": {
        "lang": "en",
        "id": "FDSA23W9H--Q"
      },
      "source": [
        "We can now calculate the dot product of the two vectors using the np.dot function."
      ]
    },
    {
      "cell_type": "markdown",
      "metadata": {
        "id": "rVm-mdhCH--Q"
      },
      "source": [
        "np.dot(weights_array, kanto_array)"
      ]
    },
    {
      "cell_type": "markdown",
      "metadata": {
        "id": "E2DyI47jH--W"
      },
      "source": [
        "You can find all mathematical operators for numpy arrays [here](https://numpy.org/doc/stable/reference/routines.math.html)."
      ]
    },
    {
      "cell_type": "markdown",
      "metadata": {
        "lang": "en",
        "id": "PenBW2PeH--X"
      },
      "source": [
        "## Advantages of using Numpy arrays\n",
        "\n",
        "NumPy arrays offer several advantages over Python lists, especially when working with numeric data in data analysis and scientific computing:\n",
        "\n",
        "**Ease of Use**\n",
        "\n",
        "One of the primary advantages of NumPy arrays is their ease of use for performing mathematical operations. You can write concise and intuitive expressions that operate on entire arrays, making your code more readable and reducing the need for explicit loops.\n",
        "\n",
        "For example, suppose you have two arrays, `kanto` and `weights`, representing climate data and corresponding weights. You can easily calculate the yield of apples for the Kanto region as:\n",
        "\n",
        "```python\n",
        "yield_of_apples = (kanto * weights).sum()\n",
        "```\n",
        "\n",
        "**Performance**\n",
        "\n",
        "Another significant advantage of NumPy arrays is their performance. NumPy's operations and functions are implemented internally in C or C++, which makes them considerably faster than using equivalent Python statements and loops that are interpreted at runtime."
      ]
    },
    {
      "cell_type": "code",
      "execution_count": null,
      "metadata": {
        "id": "HNcsXDkVH--X"
      },
      "outputs": [],
      "source": [
        "import time\n",
        "import numpy as np"
      ]
    },
    {
      "cell_type": "markdown",
      "metadata": {
        "id": "rU9w36CFH--Y"
      },
      "source": [
        "Now, let's measure the time it takes to calculate the yield using Python lists"
      ]
    },
    {
      "cell_type": "code",
      "execution_count": null,
      "metadata": {
        "id": "6DOFPTbyH--Y"
      },
      "outputs": [],
      "source": [
        "# First, let's define the weights and climate data for the Kanto region\n",
        "weights = [0.3, 0.2, 0.5]  # Weights for temperature, rainfall, and humidity\n",
        "kanto_as_list = [73, 67, 43]  # Climate data for Kanto as a list\n",
        "\n",
        "# Function to calculate apple yield manually using Python lists\n",
        "def apples_per_region(lst_):\n",
        "    counter = 0\n",
        "    for j, k in zip(weights, lst_):\n",
        "        counter += j * k\n",
        "    return counter\n",
        "\n",
        "start_time = time.time()  # Record the start time\n",
        "result = apples_per_region(kanto_as_list)  # Calculate yield using Python lists\n",
        "end_time = time.time()  # Record the end time\n",
        "\n",
        "elapsed_time = end_time - start_time  # Calculate the elapsed time\n",
        "print(f\"Yield calculated using Python lists: {result}\")\n",
        "print(f\"Time taken: {elapsed_time} seconds\")"
      ]
    },
    {
      "cell_type": "code",
      "execution_count": null,
      "metadata": {
        "id": "GeQPMZofH--Y"
      },
      "outputs": [],
      "source": [
        "# Now, let's perform the same calculation using NumPy arrays\n",
        "kanto_array = np.array([73, 67, 43])  # Climate data for Kanto as a NumPy array\n",
        "weights_array = np.array([0.3, 0.2, 0.5])  # Weights as a NumPy array\n",
        "\n",
        "# Measure the time it takes to calculate the yield using NumPy arrays\n",
        "start_time = time.time()  # Record the start time\n",
        "result = np.dot(weights_array, kanto_array)  # Calculate yield using NumPy arrays\n",
        "end_time = time.time()  # Record the end time\n",
        "\n",
        "elapsed_time = end_time - start_time  # Calculate the elapsed time\n",
        "print(f\"Yield calculated using NumPy arrays: {result}\")\n",
        "print(f\"Time taken: {elapsed_time} seconds\")"
      ]
    },
    {
      "cell_type": "markdown",
      "metadata": {
        "id": "igvqPMA2H--Y"
      },
      "source": [
        "The slight difference in execution time, where NumPy appears to take slightly longer, is primarily due to the additional overhead introduced by NumPy's internal operations for handling arrays. NumPy is optimized for complex mathematical operations on large datasets, which might involve additional setup and memory management. For very simple calculations like this example, the overhead of NumPy can sometimes make it appear slightly slower.\n",
        "\n",
        "However, in practice, the difference in execution time is negligible for most data-intensive tasks, especially when dealing with large datasets or complex mathematical operations. NumPy truly shines when performing more complex operations or working with larger datasets, where its performance advantages become much more apparent.\n",
        "\n",
        "So, while in this specific case, NumPy might appear slightly slower, it's essential to consider the broader context where NumPy's efficiency becomes a significant advantage.\n",
        "\n",
        "NumPy provides a more convenient and efficient way to work with numerical data, enabling you to write cleaner, more expressive code and achieve better performance in data analysis and scientific computing tasks."
      ]
    },
    {
      "cell_type": "markdown",
      "metadata": {
        "lang": "en",
        "id": "CnPEEfnaH--Z"
      },
      "source": [
        "## Create Arrays\n",
        "In data analysis and scientific computing, generating random data is a common task. NumPy provides powerful tools to create arrays filled with random numbers, which can be particularly useful for tasks like simulating experiments or generating synthetic datasets.\n",
        "\n",
        "### random numbers\n",
        "\n",
        "**Random Randint vs. Random Random**\n",
        "\n",
        "In this section, we'll explore two essential functions for generating random numbers in NumPy: [**`numpy.random.randint`**](https://numpy.org/doc/stable/reference/random/generated/numpy.random.randint.html) and [**`numpy.random.random`**](https://numpy.org/doc/stable/reference/random/generated/numpy.random.random.html).\n",
        "\n",
        "- **`numpy.random.randint`**: This function generates random integers within a specified range. It's useful for creating arrays of whole numbers when simulating scenarios that involve discrete values.\n",
        "\n",
        "- **`numpy.random.random`**: This function produces random floating-point numbers between 0 and 1. It's suitable for tasks that require continuous random variables, such as modeling uncertainty in scientific experiments.\n",
        "\n",
        "By understanding these two functions, you'll gain the capability to generate diverse sets of random data tailored to your specific needs. Whether you're conducting statistical simulations, testing algorithms, or exploring probability distributions, NumPy's random number generation capabilities will prove invaluable.\n",
        "\n",
        "Let's dive into each of these functions to see how they work and how to use them effectively.\n"
      ]
    },
    {
      "cell_type": "markdown",
      "metadata": {
        "id": "X45c6CJ6H--Z"
      },
      "source": [
        "![Screenshot%202022-10-11%20at%2009.45.54.png](attachment:Screenshot%202022-10-11%20at%2009.45.54.png)"
      ]
    },
    {
      "cell_type": "code",
      "execution_count": null,
      "metadata": {
        "id": "oIzbyCE6H--Z"
      },
      "outputs": [],
      "source": [
        "# Import the NumPy library as np\n",
        "import numpy as np\n",
        "\n",
        "# Generate an array of 10 random floating-point numbers between 0 and 1\n",
        "random_numbers = np.random.random(10)\n",
        "\n",
        "# Print the generated array\n",
        "print(\"Random Numbers Array:\")\n",
        "print(random_numbers)"
      ]
    },
    {
      "cell_type": "markdown",
      "metadata": {
        "id": "plgv1Dq3H--Z"
      },
      "source": [
        "**OFF-TOPIC**\n",
        "- **Randomness**: Randomness is a concept related to unpredictability and chance in data or events.\n",
        "- **Time in Seconds**: Measuring time in seconds can be useful for timing events or processes.\n",
        "- **Coordinates**: Coordinates represent points in space or on a plane, often used in geometry and mapping."
      ]
    },
    {
      "cell_type": "code",
      "execution_count": null,
      "metadata": {
        "id": "gNhHLnW_H--Z"
      },
      "outputs": [],
      "source": [
        "# Create a function to display information about a NumPy array\n",
        "def numpy_info(arr):\n",
        "    print(\"\\nThe dimension is:\", arr.ndim)\n",
        "    print(\"The shape is:\", arr.shape)\n",
        "    print(\"The size is:\", arr.size)"
      ]
    },
    {
      "cell_type": "markdown",
      "metadata": {
        "id": "taiIFB6BH--Z"
      },
      "source": [
        "The `numpy_info` function is designed to provide information about a NumPy array. It takes an input array `arr` and displays three key characteristics of the array:\n",
        "\n",
        "1. **Dimension (`arr.ndim`):** This method returns the number of dimensions in the input array `arr`. For example, if `arr` is a 1-dimensional array, it will return `1` (vector). If it's a 2-dimensional array, it will return `2` (matrix), and so on.\n",
        "\n",
        "2. **Shape (`arr.shape`):** This method returns a tuple representing the dimensions of the array. The tuple contains the length of the array along each dimension. For example, if `arr` is a 1-dimensional array with 7 elements, it will return `(7,)`. If it's a 2-dimensional array with dimensions 3x4, it will return `(3, 4)`.\n",
        "\n",
        "3. **Size (`arr.size`):** This method returns the total number of elements in the array. It's essentially the product of the lengths of all dimensions. For example, if `arr` is a 2-dimensional array with dimensions 3x4, it will return `12` because there are a total of 12 elements in the array.\n",
        "\n",
        "The `numpy_info` function's purpose is to quickly summarize the structure and size of a NumPy array for better understanding and analysis.\n"
      ]
    },
    {
      "cell_type": "markdown",
      "metadata": {
        "id": "6E4tcRt0H--a"
      },
      "source": [
        "1. `1darray: vector`"
      ]
    },
    {
      "cell_type": "code",
      "execution_count": null,
      "metadata": {
        "id": "UxjXZE5JH--a"
      },
      "outputs": [],
      "source": [
        "# Generate an array of 7 random floating-point numbers between 0 and 1\n",
        "vector = np.random.random(7)\n",
        "\n",
        "# Print the generated vector\n",
        "print(\"\\nRandom Vector:\")\n",
        "print(vector)"
      ]
    },
    {
      "cell_type": "code",
      "execution_count": null,
      "metadata": {
        "id": "lPlIDCNGH--a"
      },
      "outputs": [],
      "source": [
        "# Call the numpy_info function to display information about the 'vector' array\n",
        "print(\"\\nArray Information:\")\n",
        "numpy_info(vector)"
      ]
    },
    {
      "cell_type": "markdown",
      "metadata": {
        "id": "AUi-EeqQH--a"
      },
      "source": [
        "2. `2darray: matrix`"
      ]
    },
    {
      "cell_type": "code",
      "execution_count": null,
      "metadata": {
        "id": "CmDLT_b5H--a"
      },
      "outputs": [],
      "source": [
        "# Generate a random 2D NumPy array with dimensions 3x4\n",
        "matrix = np.random.random((3, 4)) # (rows, columns)\n",
        "\n",
        "# Print the generated vector\n",
        "print(\"\\nRandom Matrix:\")\n",
        "print(matrix)"
      ]
    },
    {
      "cell_type": "code",
      "execution_count": null,
      "metadata": {
        "id": "uTKz8HNdH--b"
      },
      "outputs": [],
      "source": [
        "# Call the numpy_info function to display information about the 'matrix' array\n",
        "print(\"\\nArray Information:\")\n",
        "numpy_info(matrix)"
      ]
    },
    {
      "cell_type": "markdown",
      "metadata": {
        "id": "n5KOQI9ZH--b"
      },
      "source": [
        "3. `3darray: tensor`"
      ]
    },
    {
      "cell_type": "code",
      "execution_count": null,
      "metadata": {
        "id": "7MLR1zJOH--b"
      },
      "outputs": [],
      "source": [
        "# Generate a random 2D NumPy array with dimensions 3 x 4 x 5\n",
        "tensor = np.random.randint(3, size=(3, 4, 5)) # (block, rows, columns)\n",
        "\n",
        "# Print the generated vector\n",
        "print(\"\\nRandom tensor:\")\n",
        "print(tensor)"
      ]
    },
    {
      "cell_type": "code",
      "execution_count": null,
      "metadata": {
        "id": "Vv01yJh0H--c"
      },
      "outputs": [],
      "source": [
        "# Call the numpy_info function to display information about the 'matrix' array\n",
        "print(\"\\nArray Information:\")\n",
        "numpy_info(tensor)"
      ]
    },
    {
      "cell_type": "markdown",
      "metadata": {
        "id": "NKPWjPqGH--d"
      },
      "source": [
        "![enter-the-matrix-10-638.jpeg](attachment:enter-the-matrix-10-638.jpeg)"
      ]
    },
    {
      "cell_type": "markdown",
      "metadata": {
        "lang": "en",
        "id": "JcffQAM8H--e"
      },
      "source": [
        "Numpy also provides a variety of convenient functions for creating arrays with specific shapes and containing either fixed or random values. You can explore these array creation functions further by referring to the official [documentation](https://numpy.org/doc/stable/reference/routines.array-creation.html) or by using the built-in `help` function for more comprehensive information and examples. These functions simplify the process of initializing arrays to suit your specific data manipulation needs."
      ]
    },
    {
      "cell_type": "markdown",
      "metadata": {
        "lang": "en",
        "id": "cQvGtQJcH--g"
      },
      "source": [
        "### Range\n",
        "You can use NumPy to easily create a range of values using the `np.arange()` function. This function takes three arguments: `start`, `stop`, and `step`, and it returns an array of values starting from `start`, up to (but not including) `stop`, with increments of `step`.\n",
        "\n",
        "Here's an example:"
      ]
    },
    {
      "cell_type": "code",
      "execution_count": null,
      "metadata": {
        "id": "OPZ1cabLH--i"
      },
      "outputs": [],
      "source": [
        "# Does the same as range() function from build-in python\n",
        "range_of_values = np.arange(0, 100)"
      ]
    },
    {
      "cell_type": "markdown",
      "metadata": {
        "lang": "en",
        "id": "B0xvwfJTH--j"
      },
      "source": [
        "### Linespace\n",
        "\n",
        "The NumPy `linspace` function is a versatile tool for creating sequences of evenly spaced values within a specified interval. It allows you to define a start point and an end point for a given range and determine the total number of evenly spaced values you want within that interval. Importantly, this sequence includes both the start and end points.\n",
        "\n",
        "Here's how you can use the `np.linspace()` function:"
      ]
    },
    {
      "cell_type": "code",
      "execution_count": null,
      "metadata": {
        "id": "rAH4T0QhH--j"
      },
      "outputs": [],
      "source": [
        "np.linspace(0, 100, 50)"
      ]
    },
    {
      "cell_type": "markdown",
      "metadata": {
        "id": "XZMygbPKH--j"
      },
      "source": [
        "In this function, `start` represents the beginning of the interval, `end` is the endpoint, and `num` is the total number of values you want in the sequence. NumPy will generate a sequence of values that are evenly distributed between `start` and `end`, inclusive of both endpoints.\n",
        "\n",
        "The `linspace` function is particularly useful for tasks like defining values along a continuous axis for plotting graphs or creating evenly spaced intervals for numerical calculations.\n",
        "\n",
        "For more details and options, you can refer to the official [NumPy `linspace` documentation](https://numpy.org/doc/stable/reference/generated/numpy.linspace.html)."
      ]
    },
    {
      "cell_type": "markdown",
      "metadata": {
        "lang": "en",
        "id": "3NC0ZqKxH--k"
      },
      "source": [
        "### Around\n",
        "It allows us to round the arrays to the decimals that we tell it 🙃"
      ]
    },
    {
      "cell_type": "code",
      "execution_count": null,
      "metadata": {
        "id": "1NixR12aH--k"
      },
      "outputs": [],
      "source": [
        "np.round(np.linspace(0, 100, 50), 3)"
      ]
    },
    {
      "cell_type": "markdown",
      "metadata": {
        "lang": "en",
        "id": "i-Co7-elH--k"
      },
      "source": [
        "### Arrays from data\n",
        "In NumPy, you can easily create arrays from existing data structures like lists. This section explores various ways to convert between Python lists and NumPy arrays.\n",
        "\n",
        "**Converting a List to a NumPy Array**\n",
        "\n",
        "Suppose you have a Python list a with some values:"
      ]
    },
    {
      "cell_type": "code",
      "execution_count": null,
      "metadata": {
        "id": "eugnjznzH--l"
      },
      "outputs": [],
      "source": [
        "a = [90, 50, 0]"
      ]
    },
    {
      "cell_type": "markdown",
      "metadata": {
        "id": "9kJyekAhH--l"
      },
      "source": [
        "You can convert this list into a NumPy array using `np.array()`:"
      ]
    },
    {
      "cell_type": "code",
      "execution_count": null,
      "metadata": {
        "id": "dt098-DJH--l"
      },
      "outputs": [],
      "source": [
        "a = np.array(a)"
      ]
    },
    {
      "cell_type": "markdown",
      "metadata": {
        "id": "R5lxomHEH--m"
      },
      "source": [
        "Now, the variable `a` holds a NumPy array with the same values:\n",
        "\n",
        "**Converting an Array to a List**: If you have a NumPy array and want to convert it back to a Python list, you have a few options:\n",
        "\n",
        "1. Using the `tolist()` method:"
      ]
    },
    {
      "cell_type": "code",
      "execution_count": null,
      "metadata": {
        "id": "FV-XgJCVH--n"
      },
      "outputs": [],
      "source": [
        "b = a.tolist()"
      ]
    },
    {
      "cell_type": "markdown",
      "metadata": {
        "id": "qgDtlb0bH--n"
      },
      "source": [
        "This will create a new list `b` containing the values from the NumPy array.\n",
        "\n",
        "2. Using the `list()` constructor:"
      ]
    },
    {
      "cell_type": "code",
      "execution_count": null,
      "metadata": {
        "id": "AHQridItH--n"
      },
      "outputs": [],
      "source": [
        "list(a)"
      ]
    },
    {
      "cell_type": "markdown",
      "metadata": {
        "id": "Rk9aBpHbH--o"
      },
      "source": [
        "You can directly convert the NumPy array to a Python list using the `list()` constructor.\n",
        "\n",
        "**Multi-Dimensional Arrays**: NumPy can also handle multi-dimensional arrays with ease. For instance, if you want to create a 3D array with random integers:"
      ]
    },
    {
      "cell_type": "code",
      "execution_count": null,
      "metadata": {
        "id": "4jAPgPweH--o"
      },
      "outputs": [],
      "source": [
        "a = np.random.randint(10, size=(1, 2, 3))"
      ]
    },
    {
      "cell_type": "markdown",
      "metadata": {
        "id": "IRwJS4KXH--o"
      },
      "source": [
        "This will result in a 3D NumPy array. Be cautious when converting such arrays to lists, as the structure can become nested and less intuitive"
      ]
    },
    {
      "cell_type": "code",
      "execution_count": null,
      "metadata": {
        "id": "ZVddD5StH--p"
      },
      "outputs": [],
      "source": [
        "c_badly_done = list(a)"
      ]
    },
    {
      "cell_type": "markdown",
      "metadata": {
        "id": "ogvtn-weH--p"
      },
      "source": [
        "In the example above, `c_badly_done` will be a nested list with the structure reflecting the original array's dimensions.\n",
        "\n",
        "Conclusion\n",
        "Understanding how to convert data between Python lists and NumPy arrays is essential for working with data efficiently. Depending on your needs, you can easily switch between these data structures while taking care to manage the dimensions properly.\n",
        "\n",
        "Always be mindful of the data structure you are working with, especially when handling multi-dimensional arrays, as converting them to lists may result in nested structures that require additional handling."
      ]
    },
    {
      "cell_type": "markdown",
      "metadata": {
        "lang": "en",
        "id": "GatCHqCkH--q"
      },
      "source": [
        "### Array of ZEROs\n",
        "np.zeros is used to create the array where all elements are 0. Its syntax is:\n",
        "`np.zeros(shape, dtype=float)`\n",
        "\n",
        "Where:\n",
        "- The shape is the size of the array, and can be 1-D, 2-D or multiple dimensions.\n",
        "- The dtype is float64 by default, but can be set to any data type in NumPy."
      ]
    },
    {
      "cell_type": "code",
      "execution_count": null,
      "metadata": {
        "id": "7S6-x77LH--q"
      },
      "outputs": [],
      "source": [
        "np.zeros((2, 5, 10))"
      ]
    },
    {
      "cell_type": "markdown",
      "metadata": {
        "lang": "en",
        "id": "ytdOO1ZMH--r"
      },
      "source": [
        "### Array of ONES\n",
        "Similar to creating arrays of zeros, you can create an array where all elements are set to 1 using `np.ones()`. The syntax and parameters of `np.ones()` are identical to those of `np.zeros()`:"
      ]
    },
    {
      "cell_type": "code",
      "execution_count": null,
      "metadata": {
        "id": "0DG8kQJxH--s"
      },
      "outputs": [],
      "source": [
        "np.ones((2, 5, 10))"
      ]
    },
    {
      "cell_type": "markdown",
      "metadata": {
        "lang": "en",
        "id": "Oncx29_sH--u"
      },
      "source": [
        "### Diagonal Array\n",
        "\n",
        "The `np.eye()` function in NumPy is used to generate a two-dimensional array with ones along the main diagonal and zeros elsewhere. This can be especially useful when you need to create identity matrices, which are square matrices with ones on the diagonal and zeros everywhere else.\n",
        "\n",
        "Here's how you can use `np.eye()` with its parameters:\n",
        "\n",
        "- **N**: An integer that specifies the number of rows in the resulting array. This determines the size of the square matrix.\n",
        "\n",
        "- **M** (optional): An integer that specifies the number of columns in the array. By default, it is set to `None`, which means it will be equal to `N`, resulting in a square matrix. However, you can set `M` to a different value to create a rectangular matrix.\n",
        "\n",
        "- **k** (optional): An integer, the default value is 0. It determines the position of the diagonal. When `k` is 0, it places ones on the main diagonal. If `k` is positive, it shifts the diagonal upwards, creating an upper diagonal with the offset of `k`. Conversely, if `k` is negative, it shifts the diagonal downwards, forming a lower diagonal with the offset of `-k`.\n",
        "\n",
        "- **dtype** (optional): The data type of the array elements. By default, it is set to float, but you can specify other data types as needed."
      ]
    },
    {
      "cell_type": "code",
      "execution_count": null,
      "metadata": {
        "id": "uOr_Fn2GH--u"
      },
      "outputs": [],
      "source": [
        "np.eye(5, 5, dtype=int)"
      ]
    },
    {
      "cell_type": "code",
      "execution_count": null,
      "metadata": {
        "id": "xdK_EJMSH--v"
      },
      "outputs": [],
      "source": [
        "np.eye(5, 5, 2) # Return a 2-D array with ones on the diagonal and zeros elsewhere."
      ]
    },
    {
      "cell_type": "markdown",
      "metadata": {
        "id": "FthjwVEYH--w"
      },
      "source": [
        "## Dtypes\n",
        "\n",
        "NumPy provides various data types (dtypes) to represent and work with different kinds of data efficiently. These data types are essential for specifying the type of data an array can hold, and they are a crucial aspect of NumPy's functionality.\n",
        "\n",
        "Here's a list of common NumPy data types:\n",
        "\n",
        "- **int8, int16, int32, int64**: Signed integer types with different bit sizes.\n",
        "- **uint8, uint16, uint32, uint64**: Unsigned (non-negative) integer types with different bit sizes.\n",
        "- **float16, float32, float64**: Floating-point types with varying precision.\n",
        "- **complex64, complex128**: Complex number types.\n",
        "- **bool**: Boolean type.\n",
        "- **object**: Generic Python object type.\n",
        "- **string_**: String type (fixed-size ASCII strings).\n",
        "- **unicode_**: Unicode string type (fixed-size Unicode strings).\n",
        "- **datetime64**: Date and time type.\n",
        "- **timedelta64**: Differences between two datetime values.\n",
        "- **void**: Raw data type (for structured arrays).\n",
        "- **structured**: User-defined structured data types.\n",
        "- **unicodechar**: A single Unicode character.\n",
        "\n",
        "These data types allow you to work with a wide range of data efficiently, making NumPy a powerful library for numerical and scientific computing. You can explore the [official NumPy documentation](https://numpy.org/doc/stable/user/basics.types.html) for more detailed information about these data types and their usage."
      ]
    },
    {
      "cell_type": "code",
      "execution_count": null,
      "metadata": {
        "id": "kkU2Gr0WH--w"
      },
      "outputs": [],
      "source": [
        "np.eye(5, 5) # type: float"
      ]
    },
    {
      "cell_type": "code",
      "execution_count": null,
      "metadata": {
        "id": "TROsFZ2OH--y"
      },
      "outputs": [],
      "source": [
        "np.eye(5, 5, dtype=\"int\") # type: int"
      ]
    },
    {
      "cell_type": "code",
      "execution_count": null,
      "metadata": {
        "id": "Rpkb2I2oH--z"
      },
      "outputs": [],
      "source": [
        "np.eye(5, 5, dtype=\"str\") # type: str"
      ]
    },
    {
      "cell_type": "code",
      "execution_count": null,
      "metadata": {
        "id": "tMMnhHEWH--z"
      },
      "outputs": [],
      "source": [
        "# if a dataframe has dtype=object -> it's a string\n",
        "np.eye(5, 5, dtype=\"object\") # type: object"
      ]
    },
    {
      "cell_type": "markdown",
      "metadata": {
        "lang": "en",
        "id": "9x9fQQXTH--0"
      },
      "source": [
        "## Business challenge: Forex Data Analysis Challenge\n",
        "\n",
        "In this exercise, we'll embark on a Forex data analysis challenge, simulating a scenario where you need to analyze historical foreign exchange (Forex) rate data for a currency pair. You've been provided with a dataset containing daily Forex rates for a specific currency pair over a month. Your objective is to leverage NumPy to extract valuable insights from this financial data.\n",
        "\n",
        "### Dataset Description\n",
        "\n",
        "The dataset comprises two NumPy arrays:\n",
        "- `dates`: An array containing date values representing each trading day of the month.\n",
        "- `exchange_rates`: An array of exchange rate values for a specific currency pair corresponding to each date.\n",
        "\n",
        "Your tasks will involve:\n",
        "\n",
        "1. Calculating the average exchange rate for the entire month.\n",
        "2. Identifying the date with the highest exchange rate.\n",
        "3. Determining the total trading volume for the month.\n",
        "\n",
        "By the end of this exercise, you'll gain hands-on experience in utilizing NumPy for financial data analysis, a valuable skill for professionals in the world of Forex trading and finance.\n",
        "\n",
        "Let's kick things off by calculating the average exchange rate for the entire month!\n",
        "\n",
        "**Hint!**: check the documentation [here](https://numpy.org/doc/stable/reference/routines.html)."
      ]
    },
    {
      "cell_type": "code",
      "execution_count": null,
      "metadata": {
        "id": "BDZ8cwqIH--0"
      },
      "outputs": [],
      "source": [
        "import numpy as np\n",
        "\n",
        "# Sample Forex data (you can replace this with your dataset)\n",
        "dates = np.array(['2023-09-01', '2023-09-02', '2023-09-03', '2023-09-04', '2023-09-05'])\n",
        "exchange_rates = np.array([1.15, 1.16, 1.14, 1.17, 1.15])\n",
        "\n",
        "# 1. Calculating the average exchange rate for the entire month\n",
        "# [your code here]\n",
        "print(f\"Average Exchange Rate for the Month: {average_rate:.2f}\")\n",
        "\n",
        "# 2. Identifying the date with the highest exchange rate\n",
        "# [your code here]\n",
        "print(f\"Highest Exchange Rate Date: {max_rate_date}, Rate: {max_rate:.2f}\")\n",
        "\n",
        "# 3. Determining the total trading volume for the month (assuming equal volume each day)\n",
        "# [your code here]\n",
        "print(f\"Total Trading Volume for the Month: {total_volume:.2f}\")"
      ]
    },
    {
      "cell_type": "markdown",
      "metadata": {
        "id": "BFEU_AXZH--1"
      },
      "source": [
        "## [Transpose](https://numpy.org/doc/stable/reference/generated/numpy.transpose.html)\n",
        "\n",
        "In data analysis and linear algebra, the transpose of a matrix is a fundamental operation that flips the matrix over its diagonal. This operation swaps the rows and columns of the matrix, effectively changing the orientation of the data. Transposition is commonly used in various mathematical operations and transformations, making it a crucial concept in numerical computing.\n",
        "\n",
        "You can think of the transpose as a way to represent the same data from a different perspective, especially when dealing with multi-dimensional arrays or matrices. It is often used to align data correctly for mathematical operations, including matrix multiplication, solving linear equations, and more.\n",
        "\n",
        "In NumPy, the `numpy.transpose()` function allows you to easily transpose arrays and matrices, providing a versatile tool for data manipulation and analysis."
      ]
    },
    {
      "cell_type": "markdown",
      "metadata": {
        "id": "FfbCDih5H--2"
      },
      "source": [
        "![image.png](attachment:image.png)"
      ]
    },
    {
      "cell_type": "markdown",
      "metadata": {
        "id": "teNx6_GRH--2"
      },
      "source": [
        "Please note that the image above is a simplified representation of matrix transposition, showing the change in orientation from rows to columns and vice versa. In practice, the transpose operation can involve complex data transformations, but it serves as a critical building block for various mathematical computations and data manipulations."
      ]
    },
    {
      "cell_type": "code",
      "execution_count": null,
      "metadata": {
        "id": "i8l_rTlJH--3"
      },
      "outputs": [],
      "source": [
        "# Create a sample 2D array (matrix)\n",
        "matrix = np.array([[1, 2, 3],\n",
        "                   [4, 5, 6],\n",
        "                   [7, 8, 9]])"
      ]
    },
    {
      "cell_type": "code",
      "execution_count": null,
      "metadata": {
        "id": "uP289BHIH--3"
      },
      "outputs": [],
      "source": [
        "# Display the original matrix\n",
        "print(\"Original Matrix:\")\n",
        "print(matrix)"
      ]
    },
    {
      "cell_type": "code",
      "execution_count": null,
      "metadata": {
        "id": "a25lnzziH--4"
      },
      "outputs": [],
      "source": [
        "# Use numpy.transpose() to transpose the matrix\n",
        "transposed_matrix = np.transpose(matrix)"
      ]
    },
    {
      "cell_type": "code",
      "execution_count": null,
      "metadata": {
        "id": "dkNaGj5tH--4"
      },
      "outputs": [],
      "source": [
        "# Display the transposed matrix\n",
        "print(\"\\nTransposed Matrix:\")\n",
        "print(transposed_matrix)"
      ]
    },
    {
      "cell_type": "code",
      "execution_count": null,
      "metadata": {
        "id": "NY1NuIvLH--4"
      },
      "outputs": [],
      "source": [
        "# Alternatively, you can use the T attribute for transposition\n",
        "# This achieves the same result as np.transpose()\n",
        "transposed_matrix_alt = matrix.T"
      ]
    },
    {
      "cell_type": "code",
      "execution_count": null,
      "metadata": {
        "id": "kKhtwE4dH--4"
      },
      "outputs": [],
      "source": [
        "# Display the alternative transposed matrix\n",
        "print(\"\\nAlternative Transposed Matrix:\")\n",
        "print(transposed_matrix_alt)"
      ]
    },
    {
      "cell_type": "code",
      "execution_count": null,
      "metadata": {
        "id": "Nj-HfnKfH--4"
      },
      "outputs": [],
      "source": [
        "# Check if the two methods produce the same result\n",
        "print(\"\\nAre the two transposed matrices equal?\")\n",
        "print(np.array_equal(transposed_matrix, transposed_matrix_alt))"
      ]
    },
    {
      "cell_type": "markdown",
      "metadata": {
        "id": "WAzRHqARH--5"
      },
      "source": [
        "## Reshaping Arrays in NumPy\n",
        "\n",
        "Reshaping arrays is a fundamental operation in data manipulation and analysis. It involves changing the dimensions or shape of an array while preserving its original data. NumPy, a powerful library for numerical computing in Python, provides a versatile function called `numpy.reshape()` for this purpose.\n",
        "\n",
        "Reshaping allows you to convert 1D arrays into 2D arrays (and vice versa), rearrange the dimensions of multi-dimensional arrays, and efficiently prepare data for various data analysis and machine learning tasks.\n",
        "\n",
        "In this section, we'll explore how to reshape arrays in NumPy, including transforming arrays between different dimensions and examining the properties of reshaped arrays.\n",
        "\n",
        "Let's dive into the world of array reshaping and discover how it can be a valuable tool in your data analysis toolkit."
      ]
    },
    {
      "cell_type": "markdown",
      "metadata": {
        "id": "Oc-zwvERH--5"
      },
      "source": [
        "![Screenshot%202023-01-24%20at%2011.21.15.png](attachment:Screenshot%202023-01-24%20at%2011.21.15.png)"
      ]
    },
    {
      "cell_type": "code",
      "execution_count": null,
      "metadata": {
        "id": "bge-nNl5H--5"
      },
      "outputs": [],
      "source": [
        "# Create a 1D array\n",
        "array_1d = np.array([1, 2, 3, 4, 5, 6])"
      ]
    },
    {
      "cell_type": "code",
      "execution_count": null,
      "metadata": {
        "id": "L6pej5V_H--5"
      },
      "outputs": [],
      "source": [
        "# Display the original 1D array\n",
        "print(\"Original 1D Array:\")\n",
        "print(array_1d)"
      ]
    },
    {
      "cell_type": "code",
      "execution_count": null,
      "metadata": {
        "id": "m_NwZCkfH--5"
      },
      "outputs": [],
      "source": [
        "# Reshape the 1D array into a 2D array with 2 rows and 3 columns\n",
        "array_2d = np.reshape(array_1d, (2, 3))"
      ]
    },
    {
      "cell_type": "code",
      "execution_count": null,
      "metadata": {
        "id": "N_CoaLbNH--6"
      },
      "outputs": [],
      "source": [
        "# Display the reshaped 2D array\n",
        "print(\"\\nReshaped 2D Array:\")\n",
        "print(array_2d)"
      ]
    },
    {
      "cell_type": "code",
      "execution_count": null,
      "metadata": {
        "id": "k2wnfILzH--6"
      },
      "outputs": [],
      "source": [
        "# Check the shape of the reshaped array\n",
        "print(\"\\nShape of Reshaped Array:\", array_2d.shape)"
      ]
    },
    {
      "cell_type": "code",
      "execution_count": null,
      "metadata": {
        "id": "FVhEUfAPH--6"
      },
      "outputs": [],
      "source": [
        "# Reshape the 2D array back to a 1D array\n",
        "array_1d_reshaped = np.reshape(array_2d, -1)"
      ]
    },
    {
      "cell_type": "code",
      "execution_count": null,
      "metadata": {
        "id": "lXrPMprPH--6"
      },
      "outputs": [],
      "source": [
        "# Display the reshaped 1D array\n",
        "print(\"\\nReshaped 1D Array:\")\n",
        "print(array_1d_reshaped)"
      ]
    },
    {
      "cell_type": "markdown",
      "metadata": {
        "id": "2pb18DFmH--6"
      },
      "source": [
        "## Updating the value of a ndim array\n",
        "\n",
        "In data analysis and numerical computing, it's often necessary to modify the values of individual elements within multi-dimensional arrays. NumPy, a powerful library for array manipulation in Python, provides various techniques to update the values of ndimensional arrays efficiently.\n",
        "\n",
        "In this section, we'll explore methods and techniques for updating the values of ndim arrays in NumPy. Whether you're working with data cleaning, transformation, or any data manipulation task, knowing how to update array values is an essential skill.\n",
        "\n",
        "Let's delve into the world of array value updates and discover how to perform these operations effectively using NumPy.\n"
      ]
    },
    {
      "cell_type": "markdown",
      "metadata": {
        "id": "gHJFzjZpH--7"
      },
      "source": [
        "1. `overwriting`"
      ]
    },
    {
      "cell_type": "code",
      "execution_count": null,
      "metadata": {
        "id": "b97gexVEH--7"
      },
      "outputs": [],
      "source": [
        "# Create a sample 2D array\n",
        "original_array = np.array([[1, 2, 3],\n",
        "                            [4, 5, 6],\n",
        "                            [7, 8, 9]])\n",
        "\n",
        "print(\"Updated Array:\")\n",
        "print(original_array)"
      ]
    },
    {
      "cell_type": "code",
      "execution_count": null,
      "metadata": {
        "id": "FioPeVaAH--8"
      },
      "outputs": [],
      "source": [
        "# Update a specific element by overwriting it\n",
        "updated_array=original_array.copy()\n",
        "original_array[1, 1] = 99\n",
        "\n",
        "print(\"Updated Array:\")\n",
        "print(original_array)"
      ]
    },
    {
      "cell_type": "markdown",
      "metadata": {
        "id": "6lWIVLj4H--8"
      },
      "source": [
        "2. `using its index`"
      ]
    },
    {
      "cell_type": "code",
      "execution_count": null,
      "metadata": {
        "id": "wZTk9i9_H--8"
      },
      "outputs": [],
      "source": [
        "# Update a specific element using its index\n",
        "updated_array=original_array.copy()\n",
        "original_array[0][-1] = 60\n",
        "\n",
        "print(\"Updated Array:\")\n",
        "print(original_array)"
      ]
    },
    {
      "cell_type": "markdown",
      "metadata": {
        "id": "vsFlmUzoH---"
      },
      "source": [
        "3. `another syntax`"
      ]
    },
    {
      "cell_type": "code",
      "execution_count": 7,
      "metadata": {
        "id": "kiK-LlZcH---"
      },
      "outputs": [],
      "source": [
        "# Create a 2D NumPy array\n",
        "array_new = np.array(([1, 2, 3], [2, 2, 0]))"
      ]
    },
    {
      "cell_type": "code",
      "source": [
        "array_new"
      ],
      "metadata": {
        "id": "ebwR1tpkJoPk",
        "outputId": "47367377-9bc3-45d2-e1da-c8c8860887ba",
        "colab": {
          "base_uri": "https://localhost:8080/"
        }
      },
      "execution_count": 8,
      "outputs": [
        {
          "output_type": "execute_result",
          "data": {
            "text/plain": [
              "array([[1, 2, 3],\n",
              "       [2, 2, 0]])"
            ]
          },
          "metadata": {},
          "execution_count": 8
        }
      ]
    },
    {
      "cell_type": "markdown",
      "metadata": {
        "id": "d0CxXZhlH--_"
      },
      "source": [
        "We create a 2D NumPy array called `array_new` with two rows and three columns."
      ]
    },
    {
      "cell_type": "code",
      "source": [
        "array_new == 2 # mask"
      ],
      "metadata": {
        "id": "lTop0sr1JkoU",
        "outputId": "b9443de0-0386-4b69-dd99-f87729315cac",
        "colab": {
          "base_uri": "https://localhost:8080/"
        }
      },
      "execution_count": 9,
      "outputs": [
        {
          "output_type": "execute_result",
          "data": {
            "text/plain": [
              "array([[False,  True, False],\n",
              "       [ True,  True, False]])"
            ]
          },
          "metadata": {},
          "execution_count": 9
        }
      ]
    },
    {
      "cell_type": "code",
      "execution_count": 11,
      "metadata": {
        "id": "gVql4qoBH-_B",
        "outputId": "94ec8003-d5b3-4359-936d-9bb800847446",
        "colab": {
          "base_uri": "https://localhost:8080/"
        }
      },
      "outputs": [
        {
          "output_type": "execute_result",
          "data": {
            "text/plain": [
              "array([2, 2, 2])"
            ]
          },
          "metadata": {},
          "execution_count": 11
        }
      ],
      "source": [
        "array_new[array_new==2]  # lista de números que cumplen que son 2"
      ]
    },
    {
      "cell_type": "code",
      "source": [
        "prueba = np.array(([\"Aquí no\", \"Aquí sí\", \"Aquí no\"], [\"Aquí sí\", \"Aquí sí\", \"Aquí no\"]))"
      ],
      "metadata": {
        "id": "QI7GK3qGJ3V3"
      },
      "execution_count": 12,
      "outputs": []
    },
    {
      "cell_type": "code",
      "source": [
        "prueba[array_new==2]  # lista de valores donde la máscara da True"
      ],
      "metadata": {
        "id": "55VZ1zCjJzQP",
        "outputId": "6a638a06-d265-4701-ed84-18176e39ae62",
        "colab": {
          "base_uri": "https://localhost:8080/"
        }
      },
      "execution_count": 13,
      "outputs": [
        {
          "output_type": "execute_result",
          "data": {
            "text/plain": [
              "array(['Aquí sí', 'Aquí sí', 'Aquí sí'], dtype='<U7')"
            ]
          },
          "metadata": {},
          "execution_count": 13
        }
      ]
    },
    {
      "cell_type": "markdown",
      "metadata": {
        "id": "onrMB6FwH-_C"
      },
      "source": [
        "We use boolean indexing to select elements in `array_new` where the condition `array_new == 2` is true. This operation returns an array containing all elements equal to 2."
      ]
    },
    {
      "cell_type": "code",
      "execution_count": 14,
      "metadata": {
        "id": "ZfHHP6XIH-_C"
      },
      "outputs": [],
      "source": [
        "array_new[array_new==2] = 20"
      ]
    },
    {
      "cell_type": "code",
      "source": [
        "array_new"
      ],
      "metadata": {
        "id": "EOtxmwGgKGWW",
        "outputId": "65f4f860-01fc-401b-f765-6246c2a08f1c",
        "colab": {
          "base_uri": "https://localhost:8080/"
        }
      },
      "execution_count": 15,
      "outputs": [
        {
          "output_type": "execute_result",
          "data": {
            "text/plain": [
              "array([[ 1, 20,  3],\n",
              "       [20, 20,  0]])"
            ]
          },
          "metadata": {},
          "execution_count": 15
        }
      ]
    },
    {
      "cell_type": "markdown",
      "metadata": {
        "id": "Pva4BkG-H-_C"
      },
      "source": [
        "We update the elements in `array_new` where the condition `array_new == 2` is true. In this case, we set those elements to 20."
      ]
    },
    {
      "cell_type": "code",
      "execution_count": 16,
      "metadata": {
        "id": "vCh76xfLH-_D",
        "outputId": "d3bcece4-1795-4f90-ec33-d242665ca80b",
        "colab": {
          "base_uri": "https://localhost:8080/"
        }
      },
      "outputs": [
        {
          "output_type": "execute_result",
          "data": {
            "text/plain": [
              "array([[False,  True, False],\n",
              "       [ True,  True, False]])"
            ]
          },
          "metadata": {},
          "execution_count": 16
        }
      ],
      "source": [
        "array_new == 20 # mask"
      ]
    },
    {
      "cell_type": "markdown",
      "metadata": {
        "id": "8gNXASLUH-_D"
      },
      "source": [
        "We create a boolean mask by comparing each element of `array_new` with 20. This results in a boolean array where each element is `True` if the corresponding element in array_new is equal to 20, and `False` otherwise."
      ]
    },
    {
      "cell_type": "markdown",
      "metadata": {
        "lang": "en",
        "id": "VfloLnTUH-_D"
      },
      "source": [
        "## Array comparison\n",
        "\n",
        "NumPy arrays not only store data efficiently but also support a wide range of comparison operations. These operations allow you to compare elements within arrays, resulting in new arrays of Boolean values. These Boolean arrays serve as masks, enabling you to extract or manipulate elements based on specific conditions."
      ]
    },
    {
      "cell_type": "code",
      "execution_count": 17,
      "metadata": {
        "id": "vJDiDxkgH-_D"
      },
      "outputs": [],
      "source": [
        "# Create two NumPy arrays\n",
        "array1 = np.array([1, 2, 3, 4, 5])\n",
        "array2 = np.array([3, 4, 5, 6, 7])"
      ]
    },
    {
      "cell_type": "code",
      "execution_count": 18,
      "metadata": {
        "id": "RKaTj3buH-_D",
        "outputId": "95901d0c-b26e-473e-af02-e6a7c71b5a04",
        "colab": {
          "base_uri": "https://localhost:8080/"
        }
      },
      "outputs": [
        {
          "output_type": "stream",
          "name": "stdout",
          "text": [
            "Equality Comparison Result:\n",
            "[False False False False False]\n"
          ]
        }
      ],
      "source": [
        "# Equality comparison\n",
        "equal_result = (array1 == array2)\n",
        "print(\"Equality Comparison Result:\")\n",
        "print(equal_result)"
      ]
    },
    {
      "cell_type": "code",
      "execution_count": 20,
      "metadata": {
        "id": "wo-uXRnuH-_E",
        "outputId": "12b68448-50d7-46d1-f45b-e1cce7e9261a",
        "colab": {
          "base_uri": "https://localhost:8080/"
        }
      },
      "outputs": [
        {
          "output_type": "stream",
          "name": "stdout",
          "text": [
            "\n",
            "Inequality Comparison Result:\n",
            "[ True  True  True  True  True]\n"
          ]
        }
      ],
      "source": [
        "# Inequality comparison\n",
        "not_equal_result = (array1 != array2)\n",
        "print(\"\\nInequality Comparison Result:\")\n",
        "print(not_equal_result)"
      ]
    },
    {
      "cell_type": "code",
      "execution_count": 21,
      "metadata": {
        "id": "bpKOg21QH-_F",
        "outputId": "22717479-b29e-4a92-e72f-6b508aedc106",
        "colab": {
          "base_uri": "https://localhost:8080/"
        }
      },
      "outputs": [
        {
          "output_type": "stream",
          "name": "stdout",
          "text": [
            "\n",
            "Greater Than Comparison Result:\n",
            "[False False False False False]\n"
          ]
        }
      ],
      "source": [
        "# Greater than comparison\n",
        "greater_than_result = (array1 > array2)\n",
        "print(\"\\nGreater Than Comparison Result:\")\n",
        "print(greater_than_result)"
      ]
    },
    {
      "cell_type": "code",
      "execution_count": 22,
      "metadata": {
        "id": "gpd013N7H-_F",
        "outputId": "167f3319-8b36-4637-c3be-79c8088db831",
        "colab": {
          "base_uri": "https://localhost:8080/"
        }
      },
      "outputs": [
        {
          "output_type": "stream",
          "name": "stdout",
          "text": [
            "\n",
            "Less Than Comparison Result:\n",
            "[ True  True  True  True  True]\n"
          ]
        }
      ],
      "source": [
        "# Less than comparison\n",
        "less_than_result = (array1 < array2)\n",
        "print(\"\\nLess Than Comparison Result:\")\n",
        "print(less_than_result)"
      ]
    },
    {
      "cell_type": "markdown",
      "metadata": {
        "lang": "en",
        "id": "Y-eGq74qH-_F"
      },
      "source": [
        "## Array indexing and slicing\n",
        "NumPy extends Python's list indexing notation using [] to multiple dimensions in an intuitive way. With NumPy, you can provide a comma-separated list of indices or ranges to select specific elements or subarrays, also known as slices, from a NumPy array. This powerful feature allows you to access and manipulate data within multi-dimensional arrays efficiently."
      ]
    },
    {
      "cell_type": "code",
      "execution_count": 23,
      "metadata": {
        "id": "YyDBKKrZH-_G",
        "outputId": "bc2f1369-f05e-4d24-f408-74d0aadf7b7a",
        "colab": {
          "base_uri": "https://localhost:8080/"
        }
      },
      "outputs": [
        {
          "output_type": "execute_result",
          "data": {
            "text/plain": [
              "array([[1, 2, 3],\n",
              "       [4, 5, 6],\n",
              "       [7, 8, 9]])"
            ]
          },
          "metadata": {},
          "execution_count": 23
        }
      ],
      "source": [
        "# Create a 2D NumPy array\n",
        "arr = np.array([[1, 2, 3], [4, 5, 6], [7, 8, 9]])\n",
        "arr"
      ]
    },
    {
      "cell_type": "code",
      "execution_count": 24,
      "metadata": {
        "id": "X50aOo4wH-_G",
        "outputId": "a1de15e3-0c41-47bc-db9f-197ff03f4a95",
        "colab": {
          "base_uri": "https://localhost:8080/"
        }
      },
      "outputs": [
        {
          "output_type": "stream",
          "name": "stdout",
          "text": [
            "Individual Element: 6\n"
          ]
        }
      ],
      "source": [
        "# Accessing individual elements\n",
        "element = arr[1, 2]  # Accesses the element in the second row and third column\n",
        "print(\"Individual Element:\", element)"
      ]
    },
    {
      "cell_type": "code",
      "source": [
        "# Accessing individual elements\n",
        "element = arr[1, -1]  # Accesses the element in the second row and última column\n",
        "print(\"Individual Element:\", element)"
      ],
      "metadata": {
        "id": "2mUwmqEFKfVo",
        "outputId": "0bbd802a-bfc2-4a8f-d0fb-402a368ff228",
        "colab": {
          "base_uri": "https://localhost:8080/"
        }
      },
      "execution_count": 27,
      "outputs": [
        {
          "output_type": "stream",
          "name": "stdout",
          "text": [
            "Individual Element: 6\n"
          ]
        }
      ]
    },
    {
      "cell_type": "code",
      "source": [
        "# Accessing individual elements\n",
        "element = arr[1, -2]  # Accesses the element in the second row and penúltima column\n",
        "print(\"Individual Element:\", element)"
      ],
      "metadata": {
        "id": "Ee67GbnAKkNE",
        "outputId": "5478fda7-bb3b-4ecf-8899-bdb6bb33fcc2",
        "colab": {
          "base_uri": "https://localhost:8080/"
        }
      },
      "execution_count": 28,
      "outputs": [
        {
          "output_type": "stream",
          "name": "stdout",
          "text": [
            "Individual Element: 5\n"
          ]
        }
      ]
    },
    {
      "cell_type": "code",
      "execution_count": 29,
      "metadata": {
        "id": "bMzXF0JoH-_G",
        "outputId": "51d1a5c4-9a40-4b8a-fec3-08e9c86c6d75",
        "colab": {
          "base_uri": "https://localhost:8080/"
        }
      },
      "outputs": [
        {
          "output_type": "stream",
          "name": "stdout",
          "text": [
            "\n",
            "Subarray:\n",
            "[[2 3]\n",
            " [5 6]]\n"
          ]
        }
      ],
      "source": [
        "# Slicing subarrays\n",
        "subarray = arr[0:2, 1:3]  # Selects a subarray consisting of rows 0 to 1 and columns 1 to 2. Pero lo último no incluido\n",
        "print(\"\\nSubarray:\")\n",
        "print(subarray)"
      ]
    },
    {
      "cell_type": "code",
      "execution_count": 26,
      "metadata": {
        "id": "9NL7tsOxH-_H",
        "outputId": "a662de10-663e-438c-cdf3-c28b8038637b",
        "colab": {
          "base_uri": "https://localhost:8080/"
        }
      },
      "outputs": [
        {
          "output_type": "stream",
          "name": "stdout",
          "text": [
            "\n",
            "Step Slicing:\n",
            "[[1 2]\n",
            " [4 5]]\n"
          ]
        }
      ],
      "source": [
        "# Using step in slicing\n",
        "step_array = arr[:2, :2]  # Selects rows from 0 to 1 and columns from 0 to 1\n",
        "print(\"\\nStep Slicing:\")\n",
        "print(step_array)"
      ]
    },
    {
      "cell_type": "markdown",
      "metadata": {
        "lang": "en",
        "id": "t4JRQlWhH-_H"
      },
      "source": [
        "## Methods of np.arrays\n",
        "\n",
        "NumPy arrays come equipped with a wide range of built-in methods that make performing various operations on arrays more convenient and efficient. These methods provide functionality for tasks such as mathematical operations, aggregation, statistics, and data manipulation.\n",
        "\n",
        "To explore the extensive list of methods available for NumPy arrays, you can refer to the official [NumPy documentation](https://numpy.org/doc/stable/reference/arrays.ndarray.html). This documentation provides detailed information about each method along with examples of their usage.\n"
      ]
    },
    {
      "cell_type": "code",
      "execution_count": 30,
      "metadata": {
        "id": "8rtNo4OBH-_I",
        "outputId": "796ef238-119b-44e9-a189-7764d32081c5",
        "colab": {
          "base_uri": "https://localhost:8080/"
        }
      },
      "outputs": [
        {
          "output_type": "execute_result",
          "data": {
            "text/plain": [
              "array([3, 1, 2, 5, 4])"
            ]
          },
          "metadata": {},
          "execution_count": 30
        }
      ],
      "source": [
        "# Creating a NumPy array\n",
        "arr = np.array([3, 1, 2, 5, 4])\n",
        "arr"
      ]
    },
    {
      "cell_type": "code",
      "execution_count": 31,
      "metadata": {
        "id": "5Gf905LDH-_I",
        "outputId": "924ff75b-9e89-4fc0-bd77-43e6e081aa57",
        "colab": {
          "base_uri": "https://localhost:8080/"
        }
      },
      "outputs": [
        {
          "output_type": "stream",
          "name": "stdout",
          "text": [
            "Sorted Array: [1 2 3 4 5]\n"
          ]
        }
      ],
      "source": [
        "# Method 1: Sorting the array\n",
        "sorted_arr = np.sort(arr)\n",
        "print(\"Sorted Array:\", sorted_arr)"
      ]
    },
    {
      "cell_type": "code",
      "execution_count": 32,
      "metadata": {
        "id": "uiMxAKJFH-_I",
        "outputId": "35177e7d-c46c-43ea-9883-c3c741830e20",
        "colab": {
          "base_uri": "https://localhost:8080/"
        }
      },
      "outputs": [
        {
          "output_type": "stream",
          "name": "stdout",
          "text": [
            "Max Value: 5\n",
            "Min Value: 1\n"
          ]
        }
      ],
      "source": [
        "# Method 2: Finding the maximum and minimum values\n",
        "max_value = np.max(arr)\n",
        "min_value = np.min(arr)\n",
        "print(\"Max Value:\", max_value)\n",
        "print(\"Min Value:\", min_value)"
      ]
    },
    {
      "cell_type": "code",
      "execution_count": 33,
      "metadata": {
        "id": "t8OA1PsNH-_I",
        "outputId": "b6a10435-eee7-4e1a-f5fa-65f5841b87c0",
        "colab": {
          "base_uri": "https://localhost:8080/"
        }
      },
      "outputs": [
        {
          "output_type": "stream",
          "name": "stdout",
          "text": [
            "Sum of Values: 15\n",
            "Mean of Values: 3.0\n"
          ]
        }
      ],
      "source": [
        "# Method 3: Calculating the sum and mean\n",
        "sum_values = np.sum(arr)\n",
        "mean_value = np.mean(arr)\n",
        "print(\"Sum of Values:\", sum_values)\n",
        "print(\"Mean of Values:\", mean_value)"
      ]
    },
    {
      "cell_type": "code",
      "execution_count": 34,
      "metadata": {
        "id": "8bZaSJmqH-_J",
        "outputId": "9161cf81-a6d2-438e-88b3-36205fdfc800",
        "colab": {
          "base_uri": "https://localhost:8080/"
        }
      },
      "outputs": [
        {
          "output_type": "stream",
          "name": "stdout",
          "text": [
            "Reshaped Array: [[3 1 2 5 4]]\n"
          ]
        }
      ],
      "source": [
        "# Method 4: Reshaping the array\n",
        "reshaped_arr = arr.reshape(1, 5)\n",
        "print(\"Reshaped Array:\", reshaped_arr)"
      ]
    },
    {
      "cell_type": "code",
      "execution_count": 35,
      "metadata": {
        "id": "7oPaM-EvH-_J",
        "outputId": "e0c82c1d-8e43-45b7-a59f-f87692153bb0",
        "colab": {
          "base_uri": "https://localhost:8080/"
        }
      },
      "outputs": [
        {
          "output_type": "stream",
          "name": "stdout",
          "text": [
            "Square Root of Array: [1.73205081 1.         1.41421356 2.23606798 2.        ]\n"
          ]
        }
      ],
      "source": [
        "# Method 5: Calculating the square root\n",
        "sqrt_arr = np.sqrt(arr)\n",
        "print(\"Square Root of Array:\", sqrt_arr)"
      ]
    },
    {
      "cell_type": "code",
      "execution_count": 36,
      "metadata": {
        "id": "Q1_guJFQH-_J",
        "outputId": "d3bda542-9133-4956-c508-d64d16834a75",
        "colab": {
          "base_uri": "https://localhost:8080/"
        }
      },
      "outputs": [
        {
          "output_type": "stream",
          "name": "stdout",
          "text": [
            "Exponential of Array: [ 20.08553692   2.71828183   7.3890561  148.4131591   54.59815003]\n"
          ]
        }
      ],
      "source": [
        "# Method 6: Applying a mathematical function element-wise\n",
        "exp_arr = np.exp(arr)\n",
        "print(\"Exponential of Array:\", exp_arr)"
      ]
    },
    {
      "cell_type": "code",
      "execution_count": 37,
      "metadata": {
        "id": "oFebELFsH-_K",
        "outputId": "dc8059c5-1729-4069-e1d1-1a1e5195b845",
        "colab": {
          "base_uri": "https://localhost:8080/"
        }
      },
      "outputs": [
        {
          "output_type": "stream",
          "name": "stdout",
          "text": [
            "Unique Values: [1 2 3 4 5]\n",
            "Counts: [1 1 1 1 1]\n"
          ]
        }
      ],
      "source": [
        "# Method 7: Finding unique values and their counts\n",
        "unique_values, counts = np.unique(arr, return_counts=True)\n",
        "print(\"Unique Values:\", unique_values)\n",
        "print(\"Counts:\", counts)"
      ]
    },
    {
      "cell_type": "markdown",
      "metadata": {
        "id": "G1M63ydWH-_K"
      },
      "source": [
        "## Business challenge: E-commerce Customer Data Analysis\n",
        "\n",
        "You work for an e-commerce company, and your manager has asked you to analyze customer data to gain insights into customer behavior. Your task is to calculate some key metrics and generate reports based on the provided data.\n",
        "\n",
        "### Customer Data\n",
        "\n",
        "You are provided with a NumPy array named `customer_data`, which contains information about each customer. Each row in the array represents a customer, and the columns contain the following information:\n",
        "\n",
        "1. Customer ID\n",
        "2. Total Orders Placed\n",
        "3. Total Amount Spent (in dollars)\n",
        "4. Days Since Last Purchase\n",
        "5. Email Subscribed (1 for subscribed, 0 for not subscribed)\n",
        "\n",
        "Your goal is to create a set of functions to analyze this data and generate reports for your manager.\n",
        "\n",
        "### Functions to Implement\n",
        "\n",
        "You need to implement the following functions:\n",
        "\n",
        "1. **`average_order_value(data)`**: Calculate the average order value (AOV) for all customers. AOV is calculated as the total amount spent divided by the total number of orders.\n",
        "\n",
        "2. **`customer_lifetime_value(data)`**: Calculate the customer lifetime value (CLV) for each customer. CLV is calculated as the product of the average order value and the number of days since the last purchase.\n",
        "\n",
        "3. **`high_value_customers(data, threshold)`**: Identify high-value customers whose CLV exceeds a given threshold.\n",
        "\n",
        "4. **`email_subscription_rate(data)`**: Calculate the email subscription rate, which is the percentage of customers who have subscribed to emails.\n",
        "\n",
        "5. **`inactive_customers(data, days)`**: Identify customers who have not made a purchase in a specified number of days.\n",
        "\n",
        "### Instructions\n",
        "\n",
        "You are provided with a NumPy array named `customer_data` containing customer information. Your task is to implement the functions mentioned above to perform the following tasks:\n",
        "\n",
        "- Calculate the average order value (AOV) for all customers.\n",
        "\n",
        "- Calculate the customer lifetime value (CLV) for each customer.\n",
        "\n",
        "- Identify high-value customers whose CLV exceeds a given threshold. (Take 300 as threshold)\n",
        "\n",
        "- Calculate the email subscription rate.\n",
        "\n",
        "- Identify customers who have not made a purchase in a specified number of days. (take 30 days)\n",
        "\n",
        "You should test your functions with the provided data and display the results in a clear and organized manner.\n",
        "\n",
        "Feel free to use NumPy, lambda functions, list comprehension, and any other Python techniques you find suitable for this analysis.\n",
        "\n",
        "**Note**: You can assume that the `customer_data` array is already loaded with data.\n"
      ]
    },
    {
      "cell_type": "code",
      "execution_count": 65,
      "metadata": {
        "id": "T3L2F_IBH-_K"
      },
      "outputs": [],
      "source": [
        "import numpy as np\n",
        "\n",
        "# Sample customer data (replace with your actual data)\n",
        "customer_data = np.array([\n",
        "    [101, 5, 250.00, 30, 1],\n",
        "    [102, 3, 150.00, 15, 0],\n",
        "    [103, 7, 350.00, 45, 1],\n",
        "    [104, 2, 100.00, 60, 0],\n",
        "    [105, 4, 200.00, 10, 1]\n",
        "])\n",
        "customer_data[:,2]\n",
        "\"\"\" COLUMNS:\n",
        "0- Customer ID\n",
        "1- Total Orders Placed\n",
        "2- Total Amount Spent (in dollars)\n",
        "3- Days Since Last Purchase\n",
        "4- Email Subscribed (1 for subscribed, 0 for not subscribed)\"\"\"\n",
        "\n",
        "def average_order_value(data):\n",
        "  \"\"\"AOV is calculated as the total amount spent divided by the total number of orders.\"\"\"\n",
        "  total_amount_spent = data[:,2]\n",
        "  total_number_of_orders = data[:,1]\n",
        "  aov = total_amount_spent / total_number_of_orders\n",
        "  return aov\n",
        "\n",
        "def customer_lifetime_value(data):\n",
        "  \"\"\"CLV is calculated as the product of the average order value and the number of days since the last purchase.\"\"\"\n",
        "  days_since_last_purchase = data[:,3]\n",
        "  clv = average_order_value(data) * days_since_last_purchase\n",
        "  return clv\n",
        "\n",
        "def high_value_customers(data, threshold):\n",
        "  \"\"\" Identify high-value customers whose CLV exceeds a given threshold.\"\"\"\n",
        "  # Se calcula el clv con la función.\n",
        "  clv = customer_lifetime_value (data)\n",
        "  # Se verifican las posiciones donde clv supera el threshold.\n",
        "  mask = clv > threshold\n",
        "  # Se selecionan los datos que cumplen la condición de la máscara y se devuele el ID del usuario\n",
        "  high_value = data[mask][:,0]\n",
        "  return high_value\n",
        "\n",
        "def email_subscription_rate(data):\n",
        "  \"\"\"Calculate the email subscription rate, which is the percentage of customers who have subscribed to emails.\"\"\"\n",
        "  subscribed = data[:,4]\n",
        "  # Se suman los valores de subscribed (1 sí, 0 no) dividiendo por la cantidad total de usuarios que se tienen datos.\n",
        "  subscription_rate = np.sum(subscribed)/len(subscribed) * 100\n",
        "  # Se podría equivalentemente calcular la media.\n",
        "  subscription_rate = np.mean(subscribed) * 100\n",
        "  # Para considerar los NaN y no tenerlos en cuenta seria dividir por todos los que no son nan\n",
        "  subscription_rate = np.sum(subscribed)/np.sum(~np.isnan(subscribed)) * 100\n",
        "  return subscription_rate\n",
        "\n",
        "def inactive_customers(data, days):\n",
        "  \"\"\"Identify customers who have not made a purchase in a specified number of days.\"\"\"\n",
        "  # Se seleciona la columa de los datos de los días hasta la última compra\n",
        "  days_since_last_purchase = data[:,3]\n",
        "  # Se verifican las posiciones donde pasaron más dias que los días de la última compra.\n",
        "  mask = days > days_since_last_purchase\n",
        "  # Se selecionan los datos que cumplen la condición de la máscara y se devuele el ID del usuario\n",
        "  inactive = data[mask][:,0]\n",
        "  return inactive"
      ]
    },
    {
      "cell_type": "code",
      "source": [
        "average_order_value(customer_data)"
      ],
      "metadata": {
        "id": "Td8llntdYGy5",
        "outputId": "5db56f58-689e-40c3-b360-777de2f46819",
        "colab": {
          "base_uri": "https://localhost:8080/"
        }
      },
      "execution_count": 56,
      "outputs": [
        {
          "output_type": "execute_result",
          "data": {
            "text/plain": [
              "array([50., 50., 50., 50., 50.])"
            ]
          },
          "metadata": {},
          "execution_count": 56
        }
      ]
    },
    {
      "cell_type": "code",
      "source": [
        "customer_lifetime_value(customer_data)"
      ],
      "metadata": {
        "id": "UYBGnPzqYxno",
        "outputId": "cfb435ea-be7d-4f49-dd04-845e581f37fd",
        "colab": {
          "base_uri": "https://localhost:8080/"
        }
      },
      "execution_count": 57,
      "outputs": [
        {
          "output_type": "execute_result",
          "data": {
            "text/plain": [
              "array([1500.,  750., 2250., 3000.,  500.])"
            ]
          },
          "metadata": {},
          "execution_count": 57
        }
      ]
    },
    {
      "cell_type": "code",
      "source": [
        "high_value_customers(customer_data, threshold=300)"
      ],
      "metadata": {
        "id": "3wzHMzTGYxjw",
        "outputId": "27c6b1cd-2cd1-411d-8d8c-278d1c7e45e4",
        "colab": {
          "base_uri": "https://localhost:8080/"
        }
      },
      "execution_count": 58,
      "outputs": [
        {
          "output_type": "execute_result",
          "data": {
            "text/plain": [
              "array([101., 102., 103., 104., 105.])"
            ]
          },
          "metadata": {},
          "execution_count": 58
        }
      ]
    },
    {
      "cell_type": "code",
      "source": [
        "email_subscription_rate(customer_data)"
      ],
      "metadata": {
        "id": "PEcPbFSOYxYo",
        "outputId": "7d039975-6492-464b-a55b-898d9d28cf28",
        "colab": {
          "base_uri": "https://localhost:8080/"
        }
      },
      "execution_count": 66,
      "outputs": [
        {
          "output_type": "execute_result",
          "data": {
            "text/plain": [
              "60.0"
            ]
          },
          "metadata": {},
          "execution_count": 66
        }
      ]
    },
    {
      "cell_type": "code",
      "source": [
        "inactive_customers(customer_data, days=30)"
      ],
      "metadata": {
        "id": "Qp7wv-__YzjU",
        "outputId": "3f957c89-5baa-47d3-ae85-aaab911904a7",
        "colab": {
          "base_uri": "https://localhost:8080/"
        }
      },
      "execution_count": 61,
      "outputs": [
        {
          "output_type": "execute_result",
          "data": {
            "text/plain": [
              "array([102., 105.])"
            ]
          },
          "metadata": {},
          "execution_count": 61
        }
      ]
    },
    {
      "cell_type": "code",
      "source": [
        "customer_data = np.array([\n",
        "    [101, 5, 250.00, 30, 1],\n",
        "    [102, 3, 150.00, 15, 0],\n",
        "    [103, 7, 350.00, 45, 1],\n",
        "    [104, 2, 100.00, 60, 0],\n",
        "    [105, 4, 200.00, 10, 1]\n",
        "])\n",
        "\n",
        "# Ejercicio de ejemplo donde se seleccionan todos los customers id excepto el del medio\n",
        "mask = [True, True, False, True, True]\n",
        "customer_data[mask][:,0]"
      ],
      "metadata": {
        "id": "7r6uGbNeTUQf",
        "outputId": "d9edc9e7-4d7a-46c9-f226-c812a8be60aa",
        "colab": {
          "base_uri": "https://localhost:8080/"
        }
      },
      "execution_count": 67,
      "outputs": [
        {
          "output_type": "execute_result",
          "data": {
            "text/plain": [
              "array([101., 102., 104., 105.])"
            ]
          },
          "metadata": {},
          "execution_count": 67
        }
      ]
    },
    {
      "cell_type": "markdown",
      "metadata": {
        "lang": "en",
        "id": "mAYbQ0hSH-_K"
      },
      "source": [
        "## Fun things that Numpy allows us to do\n",
        "\n",
        "Numpy is a versatile library that offers a wide range of functionalities beyond numerical computing. It opens up opportunities for various data manipulation tasks, including image processing. In this section, we'll explore some exciting things that you can do with Numpy, from analyzing images to other fun applications.\n",
        "\n",
        "### Exploring Numpy's Versatility\n",
        "\n",
        "To discover the myriad of functionalities that Numpy offers, you can use the `dir(object)` function, which displays all possible methods that can be applied to a Numpy object. This allows you to explore the extensive capabilities of Numpy for different data manipulation tasks.\n",
        "\n",
        "### Image Processing with Pillow and scikit-image\n",
        "\n",
        "In addition to numerical data, Numpy can be used to work with images through libraries like Pillow and scikit-image:\n",
        "\n",
        "- [Pillow](https://pillow.readthedocs.io/en/stable/): Pillow, the Python Imaging Library, provides comprehensive image processing capabilities for your Python interpreter. You can open and manipulate images with ease using functions like `Image.open(\"path\")`.\n",
        "\n",
        "- [scikit-image](https://scikit-image.org/docs/stable/): Scikit-image extends your image processing capabilities in Python. With functions like `io.imread(\"path\")`, you can read and process images efficiently for various applications.\n",
        "\n",
        "In the upcoming sections, we'll delve into practical examples and explore the fun side of Numpy, demonstrating its versatility and usefulness in diverse data-related tasks.\n"
      ]
    },
    {
      "cell_type": "markdown",
      "metadata": {
        "lang": "en",
        "id": "9uDB9u_cH-_K"
      },
      "source": [
        "We can process images with Numpy!"
      ]
    },
    {
      "cell_type": "code",
      "execution_count": null,
      "metadata": {
        "id": "rnyM7thQH-_K"
      },
      "outputs": [],
      "source": [
        "from skimage import io"
      ]
    },
    {
      "cell_type": "code",
      "execution_count": null,
      "metadata": {
        "id": "FyOt5VfhH-_L"
      },
      "outputs": [],
      "source": [
        "photo = io.imread(\"../images/bcn.jpeg\")"
      ]
    },
    {
      "cell_type": "code",
      "execution_count": null,
      "metadata": {
        "id": "MCnck71WH-_L"
      },
      "outputs": [],
      "source": [
        "numpy_info(photo)"
      ]
    },
    {
      "cell_type": "code",
      "execution_count": null,
      "metadata": {
        "id": "SNquUGloH-_L"
      },
      "outputs": [],
      "source": [
        "photo"
      ]
    },
    {
      "cell_type": "code",
      "execution_count": null,
      "metadata": {
        "id": "cWFxtOQpH-_L"
      },
      "outputs": [],
      "source": [
        "# pixel: square w/color\n",
        "# color: [r, g, b]\n",
        "# [0, 255, 89]"
      ]
    },
    {
      "cell_type": "markdown",
      "metadata": {
        "id": "jG3z-0VTH-_L"
      },
      "source": [
        "![RGB cube](https://upload.wikimedia.org/wikipedia/commons/d/d6/RGB_color_cube.svg)"
      ]
    },
    {
      "cell_type": "markdown",
      "metadata": {
        "id": "3FCL5rLlH-_M"
      },
      "source": [
        "`exploring the picture numerically`"
      ]
    },
    {
      "cell_type": "code",
      "execution_count": null,
      "metadata": {
        "id": "UbCc0KyrH-_M"
      },
      "outputs": [],
      "source": [
        "photo.shape[0] # FIRST DIMENSION: 800, height, y axis\n",
        "photo.shape[1] # SECOND DIMENSION: 1200, length, x axis\n",
        "photo.shape[2] # THIRD DIMENSION: b3, color, (r, g, b) -> depth\n",
        "\n",
        "print(f'First dimension is {photo.shape[0]}, the second dimension is {photo.shape[1]} and the third dimension is {photo.shape[2]}')"
      ]
    },
    {
      "cell_type": "code",
      "execution_count": null,
      "metadata": {
        "id": "PKVVvoD5H-_M"
      },
      "outputs": [],
      "source": [
        "# Color grading\n",
        "photo[0][0]\n",
        "\n",
        "# RED: photo[0][0][0] is 227\n",
        "# GREEN: photo[0][0][1] is 208\n",
        "# BLUE: photo[0][0][2] is 201"
      ]
    },
    {
      "cell_type": "markdown",
      "metadata": {
        "id": "78yozCoeH-_M"
      },
      "source": [
        "pic = io.imshow(photo)"
      ]
    },
    {
      "cell_type": "markdown",
      "metadata": {
        "id": "yPqP-BDKH-_M"
      },
      "source": [
        "1. `reversing a picture`"
      ]
    },
    {
      "cell_type": "code",
      "execution_count": null,
      "metadata": {
        "id": "iJZmJScnH-_N"
      },
      "outputs": [],
      "source": [
        "# Do you remember we can reverse an array with array[::-1]? Let's try it\n",
        "reversed_pic = io.imshow(photo[::-1])"
      ]
    },
    {
      "cell_type": "markdown",
      "metadata": {
        "id": "_M5WGZJcH-_N"
      },
      "source": [
        "2. `cropping a picture`"
      ]
    },
    {
      "cell_type": "code",
      "execution_count": null,
      "metadata": {
        "id": "8QE5y5mEH-_P"
      },
      "outputs": [],
      "source": [
        "# We can also select a specific part\n",
        "cathedral = io.imshow(photo[200:500, 400:800])"
      ]
    },
    {
      "cell_type": "markdown",
      "metadata": {
        "id": "0J3syZ3oH-_Q"
      },
      "source": [
        "3. `changing color`"
      ]
    },
    {
      "cell_type": "code",
      "execution_count": null,
      "metadata": {
        "id": "LJImgNioH-_R"
      },
      "outputs": [],
      "source": [
        "# All dimensions but only get the blue\n",
        "    # Every element in Y axis\n",
        "    # Every element in X axis\n",
        "    # Only blue element in Blue\n",
        "io.imshow(photo[:, :, 2]);"
      ]
    },
    {
      "cell_type": "markdown",
      "metadata": {
        "id": "8wLT0rT5H-_S"
      },
      "source": [
        "4. `np.where`"
      ]
    },
    {
      "cell_type": "code",
      "execution_count": null,
      "metadata": {
        "id": "yfH5EPt1H-_S"
      },
      "outputs": [],
      "source": [
        "# np.where: how it works\n",
        "# https://numpy.org/doc/stable/reference/generated/numpy.where.html\n",
        "\n",
        "# a new array (filter_2)\n",
        "# will be photo with updated values (np.where)\n",
        "\n",
        "\n",
        "# if the value is greater than 100\n",
        "    # that value will be changed int0 255\n",
        "# if not greater:\n",
        "    # the value will be zero\n",
        "\n",
        "# filter_2 the result of updating based on the np.where condition\n",
        "    # np.where access every single element\n"
      ]
    },
    {
      "cell_type": "markdown",
      "metadata": {
        "id": "e6DwumngH-_T"
      },
      "source": [
        "4. 1.  `brightness: high`"
      ]
    },
    {
      "cell_type": "code",
      "execution_count": null,
      "metadata": {
        "id": "796Vqgn6H-_T"
      },
      "outputs": [],
      "source": [
        "# Let's test with 200\n",
        "brightness_high = np.where(photo > 100, 200, 0) # brightness\n",
        "io.imshow(brightness_high);"
      ]
    },
    {
      "cell_type": "code",
      "execution_count": null,
      "metadata": {
        "id": "XWUahpdvH-_T"
      },
      "outputs": [],
      "source": [
        "# Let's test with 255\n",
        "brightness_high = np.where(photo > 100, 255, 0) # brightness\n",
        "io.imshow(brightness_high);"
      ]
    },
    {
      "cell_type": "markdown",
      "metadata": {
        "id": "1UGBDF0yH-_T"
      },
      "source": [
        "4. 2.  `brightness: low`"
      ]
    },
    {
      "cell_type": "code",
      "execution_count": null,
      "metadata": {
        "id": "RrrvPCBmH-_T"
      },
      "outputs": [],
      "source": [
        "# Let's test with 50\n",
        "brightness_low = np.where(photo > 70, 50, 30)\n",
        "io.imshow(brightness_low);"
      ]
    },
    {
      "cell_type": "markdown",
      "metadata": {
        "id": "VEG86yuoH-_U"
      },
      "source": [
        "![RGB cube](https://www.aseprite.org/docs/color-profile/rgb-cube.png)"
      ]
    },
    {
      "cell_type": "markdown",
      "metadata": {
        "lang": "en",
        "id": "bua9ffoOH-_U"
      },
      "source": [
        "A digital image is decomposed on our computer as a 3-dimensional array where each pixel is a value from 0 to 255, with 0 being black and 255 being white."
      ]
    },
    {
      "cell_type": "markdown",
      "metadata": {
        "id": "LijUPsY-H-_U"
      },
      "source": [
        "## Some methods:\n",
        "\n",
        "- [Multiply](https://numpy.org/doc/stable/reference/generated/numpy.multiply.html)\n",
        "- [Reshape](https://numpy.org/doc/stable/reference/generated/numpy.reshape.html)\n",
        "- [Transpose](https://numpy.org/doc/stable/reference/generated/numpy.transpose.html)"
      ]
    },
    {
      "cell_type": "markdown",
      "metadata": {
        "lang": "en",
        "id": "JxE3cFcTH-_V"
      },
      "source": [
        "## Summary\n",
        "It's your turn. What have we learned today?\n"
      ]
    },
    {
      "cell_type": "code",
      "execution_count": null,
      "metadata": {
        "id": "jz4j3x83H-_V"
      },
      "outputs": [],
      "source": []
    },
    {
      "cell_type": "markdown",
      "metadata": {
        "id": "PmH_-FyeH-_V"
      },
      "source": [
        "## Further materials\n",
        "- [NumPy Cheatsheet](https://s3.amazonaws.com/assets.datacamp.com/blog_assets/Numpy_Python_Cheat_Sheet.pdf)\n",
        "- [Master Numpy](https://medium.com/analytics-vidhya/master-numpy-in-45-minutes-74b2460ecb00)\n",
        "- [Numpy Tricks](https://github.com/patidarparas13/Numpy-Tricks/blob/master/Numpy%2BTricks(Zero%2Bto%2BHero).ipynb)\n",
        "- [101 Numpy exercises](https://www.machinelearningplus.com/python/101-numpy-exercises-python/)\n",
        "\n",
        "## Solutions"
      ]
    },
    {
      "cell_type": "code",
      "execution_count": null,
      "metadata": {
        "id": "AA1nLyRXH-_V"
      },
      "outputs": [],
      "source": [
        "# Business challenge: Forex Data Analysis challenge\n",
        "import numpy as np\n",
        "\n",
        "# Sample Forex data (you can replace this with your dataset)\n",
        "dates = np.array(['2023-09-01', '2023-09-02', '2023-09-03', '2023-09-04', '2023-09-05'])\n",
        "exchange_rates = np.array([1.15, 1.16, 1.14, 1.17, 1.15])\n",
        "\n",
        "# 1. Calculating the average exchange rate for the entire month\n",
        "average_rate = np.mean(exchange_rates)\n",
        "print(f\"Average Exchange Rate for the Month: {average_rate:.2f}\")\n",
        "\n",
        "# 2. Identifying the date with the highest exchange rate\n",
        "max_rate_index = np.argmax(exchange_rates)\n",
        "max_rate_date = dates[max_rate_index]\n",
        "max_rate = exchange_rates[max_rate_index]\n",
        "print(f\"Highest Exchange Rate Date: {max_rate_date}, Rate: {max_rate:.2f}\")\n",
        "\n",
        "# 3. Determining the total trading volume for the month (assuming equal volume each day)\n",
        "total_volume = np.sum(exchange_rates)  # Replace this with actual trading volume data if available\n",
        "print(f\"Total Trading Volume for the Month: {total_volume:.2f}\")\n",
        "\n",
        "# 4. Detecting significant fluctuations or anomalies in the exchange rate (custom logic)\n",
        "# You can implement custom logic here to detect fluctuations or anomalies based on your criteria.\n",
        "\n",
        "# For example, identifying days where the rate is significantly lower than the average:\n",
        "anomalies = dates[exchange_rates < (average_rate - 0.1)]  # Adjust the threshold as needed\n",
        "print(\"Dates with Significant Rate Anomalies:\")\n",
        "for date in anomalies:\n",
        "    print(date)"
      ]
    },
    {
      "cell_type": "code",
      "execution_count": null,
      "metadata": {
        "id": "Y_U6IpgdH-_V"
      },
      "outputs": [],
      "source": [
        "# Business challenge: E-commerce Customer Data Analysis\n",
        "import numpy as np\n",
        "\n",
        "# Sample customer data (replace with your actual data)\n",
        "customer_data = np.array([\n",
        "    [101, 5, 250.00, 30, 1],\n",
        "    [102, 3, 150.00, 15, 0],\n",
        "    [103, 7, 350.00, 45, 1],\n",
        "    [104, 2, 100.00, 60, 0],\n",
        "    [105, 4, 200.00, 10, 1]\n",
        "])\n",
        "\n",
        "# Function to calculate the average order value (AOV)\n",
        "def average_order_value(data):\n",
        "    total_orders = data[:, 1].sum()\n",
        "    total_amount_spent = data[:, 2].sum()\n",
        "    aov = total_amount_spent / total_orders\n",
        "    return aov\n",
        "\n",
        "# Function to calculate the customer lifetime value (CLV)\n",
        "def customer_lifetime_value(data):\n",
        "    clv = (data[:, 2] / data[:, 3]) * data[:, 1]\n",
        "    return clv\n",
        "\n",
        "# Function to identify high-value customers above a threshold CLV\n",
        "def high_value_customers(data, threshold):\n",
        "    clv = customer_lifetime_value(data)\n",
        "    high_value = data[clv > threshold]\n",
        "    return high_value\n",
        "\n",
        "# Function to calculate the email subscription rate\n",
        "def email_subscription_rate(data):\n",
        "    subscribed_count = data[:, 4].sum()\n",
        "    total_customers = len(data)\n",
        "    subscription_rate = (subscribed_count / total_customers) * 100\n",
        "    return subscription_rate\n",
        "\n",
        "# Function to identify inactive customers based on days since last purchase\n",
        "def inactive_customers(data, days):\n",
        "    inactive = data[data[:, 3] > days]\n",
        "    return inactive\n",
        "\n",
        "# Test the functions and display results\n",
        "print(\"Average Order Value (AOV): $\", average_order_value(customer_data))\n",
        "print(\"\\nCustomer Lifetime Value (CLV):\")\n",
        "print(customer_lifetime_value(customer_data))\n",
        "print(\"\\nHigh-Value Customers (CLV > $300):\")\n",
        "print(high_value_customers(customer_data, 300))\n",
        "print(\"\\nEmail Subscription Rate: %\", email_subscription_rate(customer_data))\n",
        "print(\"\\nInactive Customers (No purchase in > 30 days):\")\n",
        "print(inactive_customers(customer_data, 30))"
      ]
    }
  ],
  "metadata": {
    "colab": {
      "name": "numpy-class.ipynb",
      "provenance": []
    },
    "kernelspec": {
      "display_name": "Python 3 (ipykernel)",
      "language": "python",
      "name": "python3"
    },
    "language_info": {
      "codemirror_mode": {
        "name": "ipython",
        "version": 3
      },
      "file_extension": ".py",
      "mimetype": "text/x-python",
      "name": "python",
      "nbconvert_exporter": "python",
      "pygments_lexer": "ipython3",
      "version": "3.9.13"
    },
    "nbTranslate": {
      "displayLangs": [
        "en",
        "es"
      ],
      "hotkey": "alt-a",
      "langInMainMenu": true,
      "sourceLang": "es",
      "targetLang": "en",
      "useGoogleTranslate": true
    },
    "toc": {
      "base_numbering": 1,
      "nav_menu": {},
      "number_sections": true,
      "sideBar": true,
      "skip_h1_title": true,
      "title_cell": "Table of Contents",
      "title_sidebar": "Contents",
      "toc_cell": true,
      "toc_position": {
        "height": "calc(100% - 180px)",
        "left": "10px",
        "top": "150px",
        "width": "215px"
      },
      "toc_section_display": true,
      "toc_window_display": false
    },
    "varInspector": {
      "cols": {
        "lenName": 16,
        "lenType": 16,
        "lenVar": 40
      },
      "kernels_config": {
        "python": {
          "delete_cmd_postfix": "",
          "delete_cmd_prefix": "del ",
          "library": "var_list.py",
          "varRefreshCmd": "print(var_dic_list())"
        },
        "r": {
          "delete_cmd_postfix": ") ",
          "delete_cmd_prefix": "rm(",
          "library": "var_list.r",
          "varRefreshCmd": "cat(var_dic_list()) "
        }
      },
      "types_to_exclude": [
        "module",
        "function",
        "builtin_function_or_method",
        "instance",
        "_Feature"
      ],
      "window_display": false
    }
  },
  "nbformat": 4,
  "nbformat_minor": 0
}